{
 "cells": [
  {
   "cell_type": "code",
   "execution_count": 321,
   "metadata": {},
   "outputs": [],
   "source": [
    "import matplotlib.pyplot as plt\n",
    "import seaborn as sns\n",
    "import pandas as pd\n",
    "import numpy as np\n",
    "from matplotlib import colors"
   ]
  },
  {
   "cell_type": "code",
   "execution_count": 359,
   "metadata": {},
   "outputs": [],
   "source": [
    "df1 = pd.read_csv(\"csv/LJdata_eq1.csv\").sort_values(\"T\")\n",
    "df2 = pd.read_csv(\"csv/LJdata_eq2.csv\").sort_values(\"T\")"
   ]
  },
  {
   "cell_type": "code",
   "execution_count": 360,
   "metadata": {},
   "outputs": [
    {
     "data": {
      "text/html": [
       "<div>\n",
       "<style scoped>\n",
       "    .dataframe tbody tr th:only-of-type {\n",
       "        vertical-align: middle;\n",
       "    }\n",
       "\n",
       "    .dataframe tbody tr th {\n",
       "        vertical-align: top;\n",
       "    }\n",
       "\n",
       "    .dataframe thead th {\n",
       "        text-align: right;\n",
       "    }\n",
       "</style>\n",
       "<table border=\"1\" class=\"dataframe\">\n",
       "  <thead>\n",
       "    <tr style=\"text-align: right;\">\n",
       "      <th></th>\n",
       "      <th>Unnamed: 0</th>\n",
       "      <th>var_u</th>\n",
       "      <th>var_e</th>\n",
       "      <th>var_t</th>\n",
       "      <th>C_v_u</th>\n",
       "      <th>C_v_e</th>\n",
       "      <th>E</th>\n",
       "      <th>U</th>\n",
       "      <th>T</th>\n",
       "    </tr>\n",
       "  </thead>\n",
       "  <tbody>\n",
       "    <tr>\n",
       "      <th>2</th>\n",
       "      <td>0</td>\n",
       "      <td>142.368400</td>\n",
       "      <td>142.603089</td>\n",
       "      <td>0.040878</td>\n",
       "      <td>0.091537</td>\n",
       "      <td>2.275228</td>\n",
       "      <td>-69.978577</td>\n",
       "      <td>-93.646130</td>\n",
       "      <td>9.999967</td>\n",
       "    </tr>\n",
       "    <tr>\n",
       "      <th>11</th>\n",
       "      <td>0</td>\n",
       "      <td>2.575244</td>\n",
       "      <td>15.778610</td>\n",
       "      <td>2.400590</td>\n",
       "      <td>0.127106</td>\n",
       "      <td>2.239657</td>\n",
       "      <td>75.423761</td>\n",
       "      <td>-42.876807</td>\n",
       "      <td>49.984117</td>\n",
       "    </tr>\n",
       "    <tr>\n",
       "      <th>13</th>\n",
       "      <td>0</td>\n",
       "      <td>3.372021</td>\n",
       "      <td>21.452477</td>\n",
       "      <td>3.118116</td>\n",
       "      <td>0.046658</td>\n",
       "      <td>2.320106</td>\n",
       "      <td>102.199050</td>\n",
       "      <td>-39.775279</td>\n",
       "      <td>59.986707</td>\n",
       "    </tr>\n",
       "    <tr>\n",
       "      <th>15</th>\n",
       "      <td>0</td>\n",
       "      <td>4.333020</td>\n",
       "      <td>27.955641</td>\n",
       "      <td>4.044363</td>\n",
       "      <td>0.049264</td>\n",
       "      <td>2.317499</td>\n",
       "      <td>128.984240</td>\n",
       "      <td>-36.687239</td>\n",
       "      <td>69.999179</td>\n",
       "    </tr>\n",
       "    <tr>\n",
       "      <th>1</th>\n",
       "      <td>0</td>\n",
       "      <td>7.266321</td>\n",
       "      <td>55.495738</td>\n",
       "      <td>8.661662</td>\n",
       "      <td>0.024554</td>\n",
       "      <td>2.391317</td>\n",
       "      <td>207.854330</td>\n",
       "      <td>-28.773534</td>\n",
       "      <td>99.979527</td>\n",
       "    </tr>\n",
       "    <tr>\n",
       "      <th>7</th>\n",
       "      <td>0</td>\n",
       "      <td>26.870903</td>\n",
       "      <td>215.378484</td>\n",
       "      <td>34.070128</td>\n",
       "      <td>0.046748</td>\n",
       "      <td>2.320015</td>\n",
       "      <td>469.455848</td>\n",
       "      <td>-4.088670</td>\n",
       "      <td>200.081073</td>\n",
       "    </tr>\n",
       "    <tr>\n",
       "      <th>8</th>\n",
       "      <td>0</td>\n",
       "      <td>59.036560</td>\n",
       "      <td>478.248857</td>\n",
       "      <td>74.546180</td>\n",
       "      <td>0.135771</td>\n",
       "      <td>2.230992</td>\n",
       "      <td>729.769905</td>\n",
       "      <td>19.458169</td>\n",
       "      <td>300.119480</td>\n",
       "    </tr>\n",
       "    <tr>\n",
       "      <th>9</th>\n",
       "      <td>0</td>\n",
       "      <td>104.094167</td>\n",
       "      <td>865.294136</td>\n",
       "      <td>135.934801</td>\n",
       "      <td>0.040123</td>\n",
       "      <td>2.406886</td>\n",
       "      <td>988.116142</td>\n",
       "      <td>41.425609</td>\n",
       "      <td>399.993773</td>\n",
       "    </tr>\n",
       "    <tr>\n",
       "      <th>10</th>\n",
       "      <td>0</td>\n",
       "      <td>149.652881</td>\n",
       "      <td>1350.434297</td>\n",
       "      <td>219.711829</td>\n",
       "      <td>0.163384</td>\n",
       "      <td>2.203379</td>\n",
       "      <td>1248.192414</td>\n",
       "      <td>64.278972</td>\n",
       "      <td>500.224717</td>\n",
       "    </tr>\n",
       "    <tr>\n",
       "      <th>12</th>\n",
       "      <td>0</td>\n",
       "      <td>215.937974</td>\n",
       "      <td>1917.240857</td>\n",
       "      <td>317.459932</td>\n",
       "      <td>0.129331</td>\n",
       "      <td>2.237433</td>\n",
       "      <td>1504.413817</td>\n",
       "      <td>84.777309</td>\n",
       "      <td>599.821951</td>\n",
       "    </tr>\n",
       "    <tr>\n",
       "      <th>14</th>\n",
       "      <td>0</td>\n",
       "      <td>275.323947</td>\n",
       "      <td>2623.343192</td>\n",
       "      <td>431.168697</td>\n",
       "      <td>0.158785</td>\n",
       "      <td>2.207979</td>\n",
       "      <td>1761.467615</td>\n",
       "      <td>104.984206</td>\n",
       "      <td>699.894025</td>\n",
       "    </tr>\n",
       "    <tr>\n",
       "      <th>16</th>\n",
       "      <td>0</td>\n",
       "      <td>342.291193</td>\n",
       "      <td>3358.906652</td>\n",
       "      <td>555.677819</td>\n",
       "      <td>0.052813</td>\n",
       "      <td>2.313950</td>\n",
       "      <td>2020.418190</td>\n",
       "      <td>126.580505</td>\n",
       "      <td>800.180475</td>\n",
       "    </tr>\n",
       "    <tr>\n",
       "      <th>17</th>\n",
       "      <td>0</td>\n",
       "      <td>469.804894</td>\n",
       "      <td>4120.669321</td>\n",
       "      <td>696.735403</td>\n",
       "      <td>0.053900</td>\n",
       "      <td>2.420664</td>\n",
       "      <td>2274.992974</td>\n",
       "      <td>145.520037</td>\n",
       "      <td>899.740606</td>\n",
       "    </tr>\n",
       "    <tr>\n",
       "      <th>0</th>\n",
       "      <td>0</td>\n",
       "      <td>602.712638</td>\n",
       "      <td>5256.179905</td>\n",
       "      <td>885.650806</td>\n",
       "      <td>0.210891</td>\n",
       "      <td>2.155872</td>\n",
       "      <td>2533.111892</td>\n",
       "      <td>165.875523</td>\n",
       "      <td>1000.199931</td>\n",
       "    </tr>\n",
       "    <tr>\n",
       "      <th>3</th>\n",
       "      <td>0</td>\n",
       "      <td>712.399816</td>\n",
       "      <td>6340.806671</td>\n",
       "      <td>1048.049541</td>\n",
       "      <td>0.397747</td>\n",
       "      <td>1.969017</td>\n",
       "      <td>2788.510858</td>\n",
       "      <td>186.537435</td>\n",
       "      <td>1099.380558</td>\n",
       "    </tr>\n",
       "    <tr>\n",
       "      <th>4</th>\n",
       "      <td>0</td>\n",
       "      <td>832.632370</td>\n",
       "      <td>7438.761820</td>\n",
       "      <td>1253.392716</td>\n",
       "      <td>0.230892</td>\n",
       "      <td>2.135871</td>\n",
       "      <td>3044.880213</td>\n",
       "      <td>204.652592</td>\n",
       "      <td>1200.047241</td>\n",
       "    </tr>\n",
       "    <tr>\n",
       "      <th>5</th>\n",
       "      <td>0</td>\n",
       "      <td>921.983934</td>\n",
       "      <td>8731.505260</td>\n",
       "      <td>1467.318641</td>\n",
       "      <td>0.246546</td>\n",
       "      <td>2.120217</td>\n",
       "      <td>3298.849785</td>\n",
       "      <td>222.867017</td>\n",
       "      <td>1299.658028</td>\n",
       "    </tr>\n",
       "    <tr>\n",
       "      <th>6</th>\n",
       "      <td>0</td>\n",
       "      <td>1101.949157</td>\n",
       "      <td>10192.774265</td>\n",
       "      <td>1692.998840</td>\n",
       "      <td>0.015647</td>\n",
       "      <td>2.351116</td>\n",
       "      <td>3555.391680</td>\n",
       "      <td>243.229664</td>\n",
       "      <td>1399.448007</td>\n",
       "    </tr>\n",
       "  </tbody>\n",
       "</table>\n",
       "</div>"
      ],
      "text/plain": [
       "    Unnamed: 0        var_u         var_e        var_t     C_v_u     C_v_e  \\\n",
       "2            0   142.368400    142.603089     0.040878  0.091537  2.275228   \n",
       "11           0     2.575244     15.778610     2.400590  0.127106  2.239657   \n",
       "13           0     3.372021     21.452477     3.118116  0.046658  2.320106   \n",
       "15           0     4.333020     27.955641     4.044363  0.049264  2.317499   \n",
       "1            0     7.266321     55.495738     8.661662  0.024554  2.391317   \n",
       "7            0    26.870903    215.378484    34.070128  0.046748  2.320015   \n",
       "8            0    59.036560    478.248857    74.546180  0.135771  2.230992   \n",
       "9            0   104.094167    865.294136   135.934801  0.040123  2.406886   \n",
       "10           0   149.652881   1350.434297   219.711829  0.163384  2.203379   \n",
       "12           0   215.937974   1917.240857   317.459932  0.129331  2.237433   \n",
       "14           0   275.323947   2623.343192   431.168697  0.158785  2.207979   \n",
       "16           0   342.291193   3358.906652   555.677819  0.052813  2.313950   \n",
       "17           0   469.804894   4120.669321   696.735403  0.053900  2.420664   \n",
       "0            0   602.712638   5256.179905   885.650806  0.210891  2.155872   \n",
       "3            0   712.399816   6340.806671  1048.049541  0.397747  1.969017   \n",
       "4            0   832.632370   7438.761820  1253.392716  0.230892  2.135871   \n",
       "5            0   921.983934   8731.505260  1467.318641  0.246546  2.120217   \n",
       "6            0  1101.949157  10192.774265  1692.998840  0.015647  2.351116   \n",
       "\n",
       "              E           U            T  \n",
       "2    -69.978577  -93.646130     9.999967  \n",
       "11    75.423761  -42.876807    49.984117  \n",
       "13   102.199050  -39.775279    59.986707  \n",
       "15   128.984240  -36.687239    69.999179  \n",
       "1    207.854330  -28.773534    99.979527  \n",
       "7    469.455848   -4.088670   200.081073  \n",
       "8    729.769905   19.458169   300.119480  \n",
       "9    988.116142   41.425609   399.993773  \n",
       "10  1248.192414   64.278972   500.224717  \n",
       "12  1504.413817   84.777309   599.821951  \n",
       "14  1761.467615  104.984206   699.894025  \n",
       "16  2020.418190  126.580505   800.180475  \n",
       "17  2274.992974  145.520037   899.740606  \n",
       "0   2533.111892  165.875523  1000.199931  \n",
       "3   2788.510858  186.537435  1099.380558  \n",
       "4   3044.880213  204.652592  1200.047241  \n",
       "5   3298.849785  222.867017  1299.658028  \n",
       "6   3555.391680  243.229664  1399.448007  "
      ]
     },
     "execution_count": 360,
     "metadata": {},
     "output_type": "execute_result"
    }
   ],
   "source": [
    "df1"
   ]
  },
  {
   "cell_type": "code",
   "execution_count": 361,
   "metadata": {},
   "outputs": [
    {
     "data": {
      "text/html": [
       "<div>\n",
       "<style scoped>\n",
       "    .dataframe tbody tr th:only-of-type {\n",
       "        vertical-align: middle;\n",
       "    }\n",
       "\n",
       "    .dataframe tbody tr th {\n",
       "        vertical-align: top;\n",
       "    }\n",
       "\n",
       "    .dataframe thead th {\n",
       "        text-align: right;\n",
       "    }\n",
       "</style>\n",
       "<table border=\"1\" class=\"dataframe\">\n",
       "  <thead>\n",
       "    <tr style=\"text-align: right;\">\n",
       "      <th></th>\n",
       "      <th>Unnamed: 0</th>\n",
       "      <th>var_u</th>\n",
       "      <th>var_e</th>\n",
       "      <th>var_t</th>\n",
       "      <th>C_v_u</th>\n",
       "      <th>C_v_e</th>\n",
       "      <th>E</th>\n",
       "      <th>U</th>\n",
       "      <th>T</th>\n",
       "    </tr>\n",
       "  </thead>\n",
       "  <tbody>\n",
       "    <tr>\n",
       "      <th>2</th>\n",
       "      <td>0</td>\n",
       "      <td>142.368400</td>\n",
       "      <td>142.603089</td>\n",
       "      <td>0.040878</td>\n",
       "      <td>716.447101</td>\n",
       "      <td>717.628135</td>\n",
       "      <td>-69.978577</td>\n",
       "      <td>-93.646130</td>\n",
       "      <td>9.999967</td>\n",
       "    </tr>\n",
       "    <tr>\n",
       "      <th>11</th>\n",
       "      <td>0</td>\n",
       "      <td>2.575244</td>\n",
       "      <td>15.778610</td>\n",
       "      <td>2.400590</td>\n",
       "      <td>0.518707</td>\n",
       "      <td>3.178135</td>\n",
       "      <td>75.423761</td>\n",
       "      <td>-42.876807</td>\n",
       "      <td>49.984117</td>\n",
       "    </tr>\n",
       "    <tr>\n",
       "      <th>13</th>\n",
       "      <td>0</td>\n",
       "      <td>3.372021</td>\n",
       "      <td>21.452477</td>\n",
       "      <td>3.118116</td>\n",
       "      <td>0.471572</td>\n",
       "      <td>3.000095</td>\n",
       "      <td>102.199050</td>\n",
       "      <td>-39.775279</td>\n",
       "      <td>59.986707</td>\n",
       "    </tr>\n",
       "    <tr>\n",
       "      <th>15</th>\n",
       "      <td>0</td>\n",
       "      <td>4.333020</td>\n",
       "      <td>27.955641</td>\n",
       "      <td>4.044363</td>\n",
       "      <td>0.445013</td>\n",
       "      <td>2.871119</td>\n",
       "      <td>128.984240</td>\n",
       "      <td>-36.687239</td>\n",
       "      <td>69.999179</td>\n",
       "    </tr>\n",
       "    <tr>\n",
       "      <th>1</th>\n",
       "      <td>0</td>\n",
       "      <td>7.266321</td>\n",
       "      <td>55.495738</td>\n",
       "      <td>8.661662</td>\n",
       "      <td>0.365814</td>\n",
       "      <td>2.793863</td>\n",
       "      <td>207.854330</td>\n",
       "      <td>-28.773534</td>\n",
       "      <td>99.979527</td>\n",
       "    </tr>\n",
       "    <tr>\n",
       "      <th>7</th>\n",
       "      <td>0</td>\n",
       "      <td>26.870903</td>\n",
       "      <td>215.378484</td>\n",
       "      <td>34.070128</td>\n",
       "      <td>0.337783</td>\n",
       "      <td>2.707434</td>\n",
       "      <td>469.455848</td>\n",
       "      <td>-4.088670</td>\n",
       "      <td>200.081073</td>\n",
       "    </tr>\n",
       "    <tr>\n",
       "      <th>8</th>\n",
       "      <td>0</td>\n",
       "      <td>59.036560</td>\n",
       "      <td>478.248857</td>\n",
       "      <td>74.546180</td>\n",
       "      <td>0.329838</td>\n",
       "      <td>2.671980</td>\n",
       "      <td>729.769905</td>\n",
       "      <td>19.458169</td>\n",
       "      <td>300.119480</td>\n",
       "    </tr>\n",
       "    <tr>\n",
       "      <th>9</th>\n",
       "      <td>0</td>\n",
       "      <td>104.094167</td>\n",
       "      <td>865.294136</td>\n",
       "      <td>135.934801</td>\n",
       "      <td>0.327407</td>\n",
       "      <td>2.721604</td>\n",
       "      <td>988.116142</td>\n",
       "      <td>41.425609</td>\n",
       "      <td>399.993773</td>\n",
       "    </tr>\n",
       "    <tr>\n",
       "      <th>10</th>\n",
       "      <td>0</td>\n",
       "      <td>149.652881</td>\n",
       "      <td>1350.434297</td>\n",
       "      <td>219.711829</td>\n",
       "      <td>0.300969</td>\n",
       "      <td>2.715881</td>\n",
       "      <td>1248.192414</td>\n",
       "      <td>64.278972</td>\n",
       "      <td>500.224717</td>\n",
       "    </tr>\n",
       "    <tr>\n",
       "      <th>12</th>\n",
       "      <td>0</td>\n",
       "      <td>215.937974</td>\n",
       "      <td>1917.240857</td>\n",
       "      <td>317.459932</td>\n",
       "      <td>0.302031</td>\n",
       "      <td>2.681635</td>\n",
       "      <td>1504.413817</td>\n",
       "      <td>84.777309</td>\n",
       "      <td>599.821951</td>\n",
       "    </tr>\n",
       "    <tr>\n",
       "      <th>14</th>\n",
       "      <td>0</td>\n",
       "      <td>275.323947</td>\n",
       "      <td>2623.343192</td>\n",
       "      <td>431.168697</td>\n",
       "      <td>0.282844</td>\n",
       "      <td>2.694996</td>\n",
       "      <td>1761.467615</td>\n",
       "      <td>104.984206</td>\n",
       "      <td>699.894025</td>\n",
       "    </tr>\n",
       "    <tr>\n",
       "      <th>16</th>\n",
       "      <td>0</td>\n",
       "      <td>342.291193</td>\n",
       "      <td>3358.906652</td>\n",
       "      <td>555.677819</td>\n",
       "      <td>0.269022</td>\n",
       "      <td>2.639913</td>\n",
       "      <td>2020.418190</td>\n",
       "      <td>126.580505</td>\n",
       "      <td>800.180475</td>\n",
       "    </tr>\n",
       "    <tr>\n",
       "      <th>17</th>\n",
       "      <td>0</td>\n",
       "      <td>469.804894</td>\n",
       "      <td>4120.669321</td>\n",
       "      <td>696.735403</td>\n",
       "      <td>0.292046</td>\n",
       "      <td>2.561538</td>\n",
       "      <td>2274.992974</td>\n",
       "      <td>145.520037</td>\n",
       "      <td>899.740606</td>\n",
       "    </tr>\n",
       "    <tr>\n",
       "      <th>0</th>\n",
       "      <td>0</td>\n",
       "      <td>602.712638</td>\n",
       "      <td>5256.179905</td>\n",
       "      <td>885.650806</td>\n",
       "      <td>0.303183</td>\n",
       "      <td>2.644017</td>\n",
       "      <td>2533.111892</td>\n",
       "      <td>165.875523</td>\n",
       "      <td>1000.199931</td>\n",
       "    </tr>\n",
       "    <tr>\n",
       "      <th>3</th>\n",
       "      <td>0</td>\n",
       "      <td>712.399816</td>\n",
       "      <td>6340.806671</td>\n",
       "      <td>1048.049541</td>\n",
       "      <td>0.296617</td>\n",
       "      <td>2.640074</td>\n",
       "      <td>2788.510858</td>\n",
       "      <td>186.537435</td>\n",
       "      <td>1099.380558</td>\n",
       "    </tr>\n",
       "    <tr>\n",
       "      <th>4</th>\n",
       "      <td>0</td>\n",
       "      <td>832.632370</td>\n",
       "      <td>7438.761820</td>\n",
       "      <td>1253.392716</td>\n",
       "      <td>0.290954</td>\n",
       "      <td>2.599391</td>\n",
       "      <td>3044.880213</td>\n",
       "      <td>204.652592</td>\n",
       "      <td>1200.047241</td>\n",
       "    </tr>\n",
       "    <tr>\n",
       "      <th>5</th>\n",
       "      <td>0</td>\n",
       "      <td>921.983934</td>\n",
       "      <td>8731.505260</td>\n",
       "      <td>1467.318641</td>\n",
       "      <td>0.274684</td>\n",
       "      <td>2.601349</td>\n",
       "      <td>3298.849785</td>\n",
       "      <td>222.867017</td>\n",
       "      <td>1299.658028</td>\n",
       "    </tr>\n",
       "    <tr>\n",
       "      <th>6</th>\n",
       "      <td>0</td>\n",
       "      <td>1101.949157</td>\n",
       "      <td>10192.774265</td>\n",
       "      <td>1692.998840</td>\n",
       "      <td>0.283149</td>\n",
       "      <td>2.619066</td>\n",
       "      <td>3555.391680</td>\n",
       "      <td>243.229664</td>\n",
       "      <td>1399.448007</td>\n",
       "    </tr>\n",
       "  </tbody>\n",
       "</table>\n",
       "</div>"
      ],
      "text/plain": [
       "    Unnamed: 0        var_u         var_e        var_t       C_v_u  \\\n",
       "2            0   142.368400    142.603089     0.040878  716.447101   \n",
       "11           0     2.575244     15.778610     2.400590    0.518707   \n",
       "13           0     3.372021     21.452477     3.118116    0.471572   \n",
       "15           0     4.333020     27.955641     4.044363    0.445013   \n",
       "1            0     7.266321     55.495738     8.661662    0.365814   \n",
       "7            0    26.870903    215.378484    34.070128    0.337783   \n",
       "8            0    59.036560    478.248857    74.546180    0.329838   \n",
       "9            0   104.094167    865.294136   135.934801    0.327407   \n",
       "10           0   149.652881   1350.434297   219.711829    0.300969   \n",
       "12           0   215.937974   1917.240857   317.459932    0.302031   \n",
       "14           0   275.323947   2623.343192   431.168697    0.282844   \n",
       "16           0   342.291193   3358.906652   555.677819    0.269022   \n",
       "17           0   469.804894   4120.669321   696.735403    0.292046   \n",
       "0            0   602.712638   5256.179905   885.650806    0.303183   \n",
       "3            0   712.399816   6340.806671  1048.049541    0.296617   \n",
       "4            0   832.632370   7438.761820  1253.392716    0.290954   \n",
       "5            0   921.983934   8731.505260  1467.318641    0.274684   \n",
       "6            0  1101.949157  10192.774265  1692.998840    0.283149   \n",
       "\n",
       "         C_v_e            E           U            T  \n",
       "2   717.628135   -69.978577  -93.646130     9.999967  \n",
       "11    3.178135    75.423761  -42.876807    49.984117  \n",
       "13    3.000095   102.199050  -39.775279    59.986707  \n",
       "15    2.871119   128.984240  -36.687239    69.999179  \n",
       "1     2.793863   207.854330  -28.773534    99.979527  \n",
       "7     2.707434   469.455848   -4.088670   200.081073  \n",
       "8     2.671980   729.769905   19.458169   300.119480  \n",
       "9     2.721604   988.116142   41.425609   399.993773  \n",
       "10    2.715881  1248.192414   64.278972   500.224717  \n",
       "12    2.681635  1504.413817   84.777309   599.821951  \n",
       "14    2.694996  1761.467615  104.984206   699.894025  \n",
       "16    2.639913  2020.418190  126.580505   800.180475  \n",
       "17    2.561538  2274.992974  145.520037   899.740606  \n",
       "0     2.644017  2533.111892  165.875523  1000.199931  \n",
       "3     2.640074  2788.510858  186.537435  1099.380558  \n",
       "4     2.599391  3044.880213  204.652592  1200.047241  \n",
       "5     2.601349  3298.849785  222.867017  1299.658028  \n",
       "6     2.619066  3555.391680  243.229664  1399.448007  "
      ]
     },
     "execution_count": 361,
     "metadata": {},
     "output_type": "execute_result"
    }
   ],
   "source": [
    "df2"
   ]
  },
  {
   "cell_type": "code",
   "execution_count": 362,
   "metadata": {},
   "outputs": [],
   "source": [
    "# For the LJ data we only do a certain temperature range 100K-1400K\n",
    "temp_range = np.array((df1[\"T\"] > 90).index)"
   ]
  },
  {
   "cell_type": "code",
   "execution_count": 363,
   "metadata": {},
   "outputs": [
    {
     "data": {
      "image/png": "[encoded data removed]",
      "text/plain": [
       "<Figure size 252x216 with 1 Axes>"
      ]
     },
     "metadata": {
      "needs_background": "light"
     },
     "output_type": "display_data"
    }
   ],
   "source": [
    "fig, ax = plt.subplots(1,1,figsize=(3.5,3))\n",
    "\n",
    "plt.scatter( df2[\"T\"][temp_range], df2[\"U\"][temp_range] , label=\"LJ\")\n",
    "\n",
    "plt.ylabel(r\"U(T)\")\n",
    "plt.xlabel(\"Temperature (K)\")\n",
    "plt.title(\"Our Results \\n 795 atom Graphene Sheet \\n Using eq2\")\n",
    "plt.legend()\n",
    "plt.savefig(f'plots/LJ_U_vs_T.png', dpi=150, bbox_inches='tight')"
   ]
  },
  {
   "cell_type": "code",
   "execution_count": 364,
   "metadata": {},
   "outputs": [
    {
     "data": {
      "image/png": "[encoded data removed]",
      "text/plain": [
       "<Figure size 252x216 with 1 Axes>"
      ]
     },
     "metadata": {
      "needs_background": "light"
     },
     "output_type": "display_data"
    }
   ],
   "source": [
    "fig, ax = plt.subplots(1,1,figsize=(3.5,3))\n",
    "\n",
    "plt.scatter( df2[\"T\"][temp_range], df2[\"E\"][temp_range] , label=\"LJ\")\n",
    "\n",
    "plt.ylabel(r\"E(T)\")\n",
    "plt.xlabel(\"Temperature (K)\")\n",
    "plt.title(\"Our Results \\n 795 atom Graphene Sheet \\n Using eq2\")\n",
    "plt.legend()\n",
    "plt.savefig(f'plots/LJ_E_vs_T.png', dpi=150, bbox_inches='tight')"
   ]
  },
  {
   "cell_type": "code",
   "execution_count": 365,
   "metadata": {},
   "outputs": [
    {
     "data": {
      "image/png": "[encoded data removed]",
      "text/plain": [
       "<Figure size 252x216 with 1 Axes>"
      ]
     },
     "metadata": {
      "needs_background": "light"
     },
     "output_type": "display_data"
    }
   ],
   "source": [
    "kcal_to_J = 4184\n",
    "\n",
    "fig, ax = plt.subplots(1,1,figsize=(3.5,3))\n",
    "\n",
    "plt.scatter( df2[\"T\"][temp_range], df2[\"C_v_e\"][temp_range] , label=\"eq 2\")\n",
    "\n",
    "plt.ylabel(r\"$C_V$ ( kcal/(mol*K) )\")\n",
    "plt.xlabel(\"Temperature (K)\")\n",
    "plt.title(\"LJ vac\")\n",
    "plt.legend()\n",
    "plt.savefig(f'plots/LJ_vac_C_v_eq2.png', dpi=150, bbox_inches='tight')"
   ]
  },
  {
   "cell_type": "code",
   "execution_count": 366,
   "metadata": {},
   "outputs": [
    {
     "data": {
      "image/png": "[encoded data removed]",
      "text/plain": [
       "<Figure size 252x216 with 1 Axes>"
      ]
     },
     "metadata": {
      "needs_background": "light"
     },
     "output_type": "display_data"
    }
   ],
   "source": [
    "kcal_to_J = 4184\n",
    "\n",
    "fig, ax = plt.subplots(1,1,figsize=(3.5,3))\n",
    "\n",
    "plt.scatter( df1[\"T\"][temp_range], df1[\"C_v_e\"][temp_range] , label=\"eq 1\")\n",
    "\n",
    "plt.ylabel(r\"$C_V$ ( kcal/(mol*K) )\")\n",
    "plt.xlabel(\"Temperature (K)\")\n",
    "plt.title(\"LJ vac\")\n",
    "plt.legend()\n",
    "plt.savefig(f'plots/LJ_vac_C_v_eq1.png', dpi=150, bbox_inches='tight')"
   ]
  },
  {
   "cell_type": "code",
   "execution_count": 367,
   "metadata": {},
   "outputs": [
    {
     "data": {
      "image/png": "[encoded data removed]",
      "text/plain": [
       "<Figure size 252x216 with 1 Axes>"
      ]
     },
     "metadata": {
      "needs_background": "light"
     },
     "output_type": "display_data"
    }
   ],
   "source": [
    "kcal_to_J = 4184\n",
    "\n",
    "fig, ax = plt.subplots(1,1,figsize=(3.5,3))\n",
    "\n",
    "plt.scatter( df2[\"T\"][temp_range], df2[\"C_v_e\"][temp_range] , label=\"eq 2\")\n",
    "plt.scatter( df1[\"T\"][temp_range], df1[\"C_v_e\"][temp_range] , label=\"eq 1\")\n",
    "\n",
    "plt.ylabel(r\"$C_V$ ( kcal/(mol*K) )\")\n",
    "plt.xlabel(\"Temperature (K)\")\n",
    "plt.title(\"LJ vac\")\n",
    "plt.legend()\n",
    "plt.ylim(0, 4)\n",
    "plt.savefig(f'plots/LJ_vac_C_v_both-eq.png', dpi=150, bbox_inches='tight')"
   ]
  },
  {
   "cell_type": "code",
   "execution_count": 368,
   "metadata": {},
   "outputs": [],
   "source": [
    "exp_df = pd.read_csv(\"C-T.csv\")"
   ]
  },
  {
   "cell_type": "code",
   "execution_count": 332,
   "metadata": {},
   "outputs": [
    {
     "data": {
      "text/html": [
       "<div>\n",
       "<style scoped>\n",
       "    .dataframe tbody tr th:only-of-type {\n",
       "        vertical-align: middle;\n",
       "    }\n",
       "\n",
       "    .dataframe tbody tr th {\n",
       "        vertical-align: top;\n",
       "    }\n",
       "\n",
       "    .dataframe thead th {\n",
       "        text-align: right;\n",
       "    }\n",
       "</style>\n",
       "<table border=\"1\" class=\"dataframe\">\n",
       "  <thead>\n",
       "    <tr style=\"text-align: right;\">\n",
       "      <th></th>\n",
       "      <th>Temperature</th>\n",
       "      <th>C_v</th>\n",
       "    </tr>\n",
       "  </thead>\n",
       "  <tbody>\n",
       "    <tr>\n",
       "      <th>0</th>\n",
       "      <td>66.845948</td>\n",
       "      <td>0.877674</td>\n",
       "    </tr>\n",
       "    <tr>\n",
       "      <th>1</th>\n",
       "      <td>102.889492</td>\n",
       "      <td>1.756109</td>\n",
       "    </tr>\n",
       "    <tr>\n",
       "      <th>2</th>\n",
       "      <td>123.914893</td>\n",
       "      <td>2.367877</td>\n",
       "    </tr>\n",
       "    <tr>\n",
       "      <th>3</th>\n",
       "      <td>147.686468</td>\n",
       "      <td>3.098733</td>\n",
       "    </tr>\n",
       "    <tr>\n",
       "      <th>4</th>\n",
       "      <td>162.103886</td>\n",
       "      <td>3.601977</td>\n",
       "    </tr>\n",
       "    <tr>\n",
       "      <th>5</th>\n",
       "      <td>190.423814</td>\n",
       "      <td>4.537671</td>\n",
       "    </tr>\n",
       "    <tr>\n",
       "      <th>6</th>\n",
       "      <td>211.535032</td>\n",
       "      <td>5.386380</td>\n",
       "    </tr>\n",
       "    <tr>\n",
       "      <th>7</th>\n",
       "      <td>225.823723</td>\n",
       "      <td>5.959732</td>\n",
       "    </tr>\n",
       "    <tr>\n",
       "      <th>8</th>\n",
       "      <td>243.845495</td>\n",
       "      <td>6.665618</td>\n",
       "    </tr>\n",
       "    <tr>\n",
       "      <th>9</th>\n",
       "      <td>258.906548</td>\n",
       "      <td>7.155417</td>\n",
       "    </tr>\n",
       "    <tr>\n",
       "      <th>10</th>\n",
       "      <td>280.532674</td>\n",
       "      <td>7.890114</td>\n",
       "    </tr>\n",
       "    <tr>\n",
       "      <th>11</th>\n",
       "      <td>294.049003</td>\n",
       "      <td>8.387116</td>\n",
       "    </tr>\n",
       "    <tr>\n",
       "      <th>12</th>\n",
       "      <td>323.012566</td>\n",
       "      <td>9.352307</td>\n",
       "    </tr>\n",
       "    <tr>\n",
       "      <th>13</th>\n",
       "      <td>349.530316</td>\n",
       "      <td>10.244028</td>\n",
       "    </tr>\n",
       "    <tr>\n",
       "      <th>14</th>\n",
       "      <td>366.136092</td>\n",
       "      <td>10.814499</td>\n",
       "    </tr>\n",
       "    <tr>\n",
       "      <th>15</th>\n",
       "      <td>389.693123</td>\n",
       "      <td>11.523266</td>\n",
       "    </tr>\n",
       "    <tr>\n",
       "      <th>16</th>\n",
       "      <td>407.972349</td>\n",
       "      <td>12.063005</td>\n",
       "    </tr>\n",
       "    <tr>\n",
       "      <th>17</th>\n",
       "      <td>441.441354</td>\n",
       "      <td>12.996983</td>\n",
       "    </tr>\n",
       "    <tr>\n",
       "      <th>18</th>\n",
       "      <td>474.052180</td>\n",
       "      <td>13.887744</td>\n",
       "    </tr>\n",
       "    <tr>\n",
       "      <th>19</th>\n",
       "      <td>495.077581</td>\n",
       "      <td>14.377543</td>\n",
       "    </tr>\n",
       "    <tr>\n",
       "      <th>20</th>\n",
       "      <td>529.833856</td>\n",
       "      <td>15.160260</td>\n",
       "    </tr>\n",
       "    <tr>\n",
       "      <th>21</th>\n",
       "      <td>549.142897</td>\n",
       "      <td>15.544415</td>\n",
       "    </tr>\n",
       "    <tr>\n",
       "      <th>22</th>\n",
       "      <td>592.051878</td>\n",
       "      <td>16.343139</td>\n",
       "    </tr>\n",
       "    <tr>\n",
       "      <th>23</th>\n",
       "      <td>635.304132</td>\n",
       "      <td>16.980197</td>\n",
       "    </tr>\n",
       "    <tr>\n",
       "      <th>24</th>\n",
       "      <td>654.355719</td>\n",
       "      <td>17.291363</td>\n",
       "    </tr>\n",
       "    <tr>\n",
       "      <th>25</th>\n",
       "      <td>691.600715</td>\n",
       "      <td>17.820537</td>\n",
       "    </tr>\n",
       "    <tr>\n",
       "      <th>26</th>\n",
       "      <td>713.055206</td>\n",
       "      <td>18.126901</td>\n",
       "    </tr>\n",
       "    <tr>\n",
       "      <th>27</th>\n",
       "      <td>751.673289</td>\n",
       "      <td>18.667280</td>\n",
       "    </tr>\n",
       "    <tr>\n",
       "      <th>28</th>\n",
       "      <td>794.582270</td>\n",
       "      <td>19.189092</td>\n",
       "    </tr>\n",
       "    <tr>\n",
       "      <th>29</th>\n",
       "      <td>813.462222</td>\n",
       "      <td>19.394615</td>\n",
       "    </tr>\n",
       "    <tr>\n",
       "      <th>30</th>\n",
       "      <td>857.229383</td>\n",
       "      <td>19.765325</td>\n",
       "    </tr>\n",
       "    <tr>\n",
       "      <th>31</th>\n",
       "      <td>900.481636</td>\n",
       "      <td>20.143719</td>\n",
       "    </tr>\n",
       "    <tr>\n",
       "      <th>32</th>\n",
       "      <td>919.533224</td>\n",
       "      <td>20.270490</td>\n",
       "    </tr>\n",
       "    <tr>\n",
       "      <th>33</th>\n",
       "      <td>962.785477</td>\n",
       "      <td>20.572052</td>\n",
       "    </tr>\n",
       "    <tr>\n",
       "      <th>34</th>\n",
       "      <td>1006.037730</td>\n",
       "      <td>20.881297</td>\n",
       "    </tr>\n",
       "    <tr>\n",
       "      <th>35</th>\n",
       "      <td>1025.432589</td>\n",
       "      <td>20.989821</td>\n",
       "    </tr>\n",
       "    <tr>\n",
       "      <th>36</th>\n",
       "      <td>1068.341571</td>\n",
       "      <td>21.221915</td>\n",
       "    </tr>\n",
       "    <tr>\n",
       "      <th>37</th>\n",
       "      <td>1111.593824</td>\n",
       "      <td>21.469055</td>\n",
       "    </tr>\n",
       "    <tr>\n",
       "      <th>38</th>\n",
       "      <td>1133.072834</td>\n",
       "      <td>21.573601</td>\n",
       "    </tr>\n",
       "    <tr>\n",
       "      <th>39</th>\n",
       "      <td>1173.897665</td>\n",
       "      <td>21.734123</td>\n",
       "    </tr>\n",
       "    <tr>\n",
       "      <th>40</th>\n",
       "      <td>1216.806646</td>\n",
       "      <td>21.950210</td>\n",
       "    </tr>\n",
       "    <tr>\n",
       "      <th>41</th>\n",
       "      <td>1240.835675</td>\n",
       "      <td>22.074101</td>\n",
       "    </tr>\n",
       "    <tr>\n",
       "      <th>42</th>\n",
       "      <td>1280.741028</td>\n",
       "      <td>22.205914</td>\n",
       "    </tr>\n",
       "    <tr>\n",
       "      <th>43</th>\n",
       "      <td>1320.217291</td>\n",
       "      <td>22.343970</td>\n",
       "    </tr>\n",
       "    <tr>\n",
       "      <th>44</th>\n",
       "      <td>1342.100871</td>\n",
       "      <td>22.406395</td>\n",
       "    </tr>\n",
       "    <tr>\n",
       "      <th>45</th>\n",
       "      <td>1385.009852</td>\n",
       "      <td>22.496032</td>\n",
       "    </tr>\n",
       "    <tr>\n",
       "      <th>46</th>\n",
       "      <td>1425.773385</td>\n",
       "      <td>22.617681</td>\n",
       "    </tr>\n",
       "    <tr>\n",
       "      <th>47</th>\n",
       "      <td>1447.313693</td>\n",
       "      <td>22.713720</td>\n",
       "    </tr>\n",
       "    <tr>\n",
       "      <th>48</th>\n",
       "      <td>1490.565946</td>\n",
       "      <td>22.833082</td>\n",
       "    </tr>\n",
       "  </tbody>\n",
       "</table>\n",
       "</div>"
      ],
      "text/plain": [
       "    Temperature        C_v\n",
       "0     66.845948   0.877674\n",
       "1    102.889492   1.756109\n",
       "2    123.914893   2.367877\n",
       "3    147.686468   3.098733\n",
       "4    162.103886   3.601977\n",
       "5    190.423814   4.537671\n",
       "6    211.535032   5.386380\n",
       "7    225.823723   5.959732\n",
       "8    243.845495   6.665618\n",
       "9    258.906548   7.155417\n",
       "10   280.532674   7.890114\n",
       "11   294.049003   8.387116\n",
       "12   323.012566   9.352307\n",
       "13   349.530316  10.244028\n",
       "14   366.136092  10.814499\n",
       "15   389.693123  11.523266\n",
       "16   407.972349  12.063005\n",
       "17   441.441354  12.996983\n",
       "18   474.052180  13.887744\n",
       "19   495.077581  14.377543\n",
       "20   529.833856  15.160260\n",
       "21   549.142897  15.544415\n",
       "22   592.051878  16.343139\n",
       "23   635.304132  16.980197\n",
       "24   654.355719  17.291363\n",
       "25   691.600715  17.820537\n",
       "26   713.055206  18.126901\n",
       "27   751.673289  18.667280\n",
       "28   794.582270  19.189092\n",
       "29   813.462222  19.394615\n",
       "30   857.229383  19.765325\n",
       "31   900.481636  20.143719\n",
       "32   919.533224  20.270490\n",
       "33   962.785477  20.572052\n",
       "34  1006.037730  20.881297\n",
       "35  1025.432589  20.989821\n",
       "36  1068.341571  21.221915\n",
       "37  1111.593824  21.469055\n",
       "38  1133.072834  21.573601\n",
       "39  1173.897665  21.734123\n",
       "40  1216.806646  21.950210\n",
       "41  1240.835675  22.074101\n",
       "42  1280.741028  22.205914\n",
       "43  1320.217291  22.343970\n",
       "44  1342.100871  22.406395\n",
       "45  1385.009852  22.496032\n",
       "46  1425.773385  22.617681\n",
       "47  1447.313693  22.713720\n",
       "48  1490.565946  22.833082"
      ]
     },
     "execution_count": 332,
     "metadata": {},
     "output_type": "execute_result"
    }
   ],
   "source": [
    "exp_df # J/(mol*K)"
   ]
  },
  {
   "cell_type": "code",
   "execution_count": 333,
   "metadata": {},
   "outputs": [
    {
     "data": {
      "image/png": "[encoded data removed]",
      "text/plain": [
       "<Figure size 252x216 with 1 Axes>"
      ]
     },
     "metadata": {
      "needs_background": "light"
     },
     "output_type": "display_data"
    }
   ],
   "source": [
    "fig, ax = plt.subplots(1,1,figsize=(3.5,3))\n",
    "\n",
    "plt.plot( exp_df[\"Temperature\"], exp_df[\" C_v\"], label=\"Exp\")\n",
    "\n",
    "plt.ylabel(r\"$C_V$ ( J/(mol*K) )\")\n",
    "plt.xlabel(\"Temperature (K)\")\n",
    "plt.legend()\n",
    "plt.savefig(f'plots/Exp_C_v.png', dpi=150, bbox_inches='tight')"
   ]
  },
  {
   "cell_type": "code",
   "execution_count": 334,
   "metadata": {},
   "outputs": [],
   "source": [
    "df1 = pd.read_csv(\"csv/ReaxFFdata_eq1.csv\").sort_values(\"T\")\n",
    "df2 = pd.read_csv(\"csv/ReaxFFdata_eq2.csv\").sort_values(\"T\")"
   ]
  },
  {
   "cell_type": "code",
   "execution_count": 335,
   "metadata": {},
   "outputs": [
    {
     "data": {
      "text/html": [
       "<div>\n",
       "<style scoped>\n",
       "    .dataframe tbody tr th:only-of-type {\n",
       "        vertical-align: middle;\n",
       "    }\n",
       "\n",
       "    .dataframe tbody tr th {\n",
       "        vertical-align: top;\n",
       "    }\n",
       "\n",
       "    .dataframe thead th {\n",
       "        text-align: right;\n",
       "    }\n",
       "</style>\n",
       "<table border=\"1\" class=\"dataframe\">\n",
       "  <thead>\n",
       "    <tr style=\"text-align: right;\">\n",
       "      <th></th>\n",
       "      <th>Unnamed: 0</th>\n",
       "      <th>var_u</th>\n",
       "      <th>var_e</th>\n",
       "      <th>var_t</th>\n",
       "      <th>C_v_u</th>\n",
       "      <th>C_v_e</th>\n",
       "      <th>E</th>\n",
       "      <th>U</th>\n",
       "      <th>T</th>\n",
       "    </tr>\n",
       "  </thead>\n",
       "  <tbody>\n",
       "    <tr>\n",
       "      <th>1</th>\n",
       "      <td>0</td>\n",
       "      <td>346.716588</td>\n",
       "      <td>393.325655</td>\n",
       "      <td>11.038759</td>\n",
       "      <td>1.222173</td>\n",
       "      <td>1.144346</td>\n",
       "      <td>-151360.763815</td>\n",
       "      <td>-151597.399265</td>\n",
       "      <td>99.982760</td>\n",
       "    </tr>\n",
       "    <tr>\n",
       "      <th>6</th>\n",
       "      <td>0</td>\n",
       "      <td>296.087003</td>\n",
       "      <td>420.475963</td>\n",
       "      <td>43.369022</td>\n",
       "      <td>1.412997</td>\n",
       "      <td>0.953781</td>\n",
       "      <td>-151160.729005</td>\n",
       "      <td>-151634.219397</td>\n",
       "      <td>200.058194</td>\n",
       "    </tr>\n",
       "    <tr>\n",
       "      <th>7</th>\n",
       "      <td>0</td>\n",
       "      <td>1495.040062</td>\n",
       "      <td>1738.113828</td>\n",
       "      <td>99.168259</td>\n",
       "      <td>1.416808</td>\n",
       "      <td>0.949945</td>\n",
       "      <td>-150635.220104</td>\n",
       "      <td>-151346.078873</td>\n",
       "      <td>300.350607</td>\n",
       "    </tr>\n",
       "    <tr>\n",
       "      <th>8</th>\n",
       "      <td>0</td>\n",
       "      <td>1373.045979</td>\n",
       "      <td>1938.067510</td>\n",
       "      <td>170.543766</td>\n",
       "      <td>1.161694</td>\n",
       "      <td>1.205094</td>\n",
       "      <td>-150123.946085</td>\n",
       "      <td>-151073.007040</td>\n",
       "      <td>400.995273</td>\n",
       "    </tr>\n",
       "    <tr>\n",
       "      <th>9</th>\n",
       "      <td>0</td>\n",
       "      <td>1891.381558</td>\n",
       "      <td>2663.482853</td>\n",
       "      <td>263.761140</td>\n",
       "      <td>1.015669</td>\n",
       "      <td>1.351131</td>\n",
       "      <td>-149657.758334</td>\n",
       "      <td>-150842.315477</td>\n",
       "      <td>500.496628</td>\n",
       "    </tr>\n",
       "    <tr>\n",
       "      <th>10</th>\n",
       "      <td>0</td>\n",
       "      <td>2595.034667</td>\n",
       "      <td>3851.307852</td>\n",
       "      <td>381.396146</td>\n",
       "      <td>1.448648</td>\n",
       "      <td>0.890996</td>\n",
       "      <td>-149164.052121</td>\n",
       "      <td>-150583.185481</td>\n",
       "      <td>599.609348</td>\n",
       "    </tr>\n",
       "    <tr>\n",
       "      <th>11</th>\n",
       "      <td>0</td>\n",
       "      <td>3679.621156</td>\n",
       "      <td>5275.680681</td>\n",
       "      <td>524.243469</td>\n",
       "      <td>1.383714</td>\n",
       "      <td>0.983016</td>\n",
       "      <td>-148626.390048</td>\n",
       "      <td>-150285.914087</td>\n",
       "      <td>701.178737</td>\n",
       "    </tr>\n",
       "    <tr>\n",
       "      <th>12</th>\n",
       "      <td>0</td>\n",
       "      <td>4620.969744</td>\n",
       "      <td>6610.119937</td>\n",
       "      <td>721.344187</td>\n",
       "      <td>1.225041</td>\n",
       "      <td>1.141693</td>\n",
       "      <td>-148195.202082</td>\n",
       "      <td>-150088.786033</td>\n",
       "      <td>800.073357</td>\n",
       "    </tr>\n",
       "    <tr>\n",
       "      <th>13</th>\n",
       "      <td>0</td>\n",
       "      <td>5830.910798</td>\n",
       "      <td>8568.749061</td>\n",
       "      <td>872.052035</td>\n",
       "      <td>1.396267</td>\n",
       "      <td>0.970514</td>\n",
       "      <td>-147661.204415</td>\n",
       "      <td>-149793.542797</td>\n",
       "      <td>900.951310</td>\n",
       "    </tr>\n",
       "    <tr>\n",
       "      <th>0</th>\n",
       "      <td>0</td>\n",
       "      <td>7144.904466</td>\n",
       "      <td>10342.354161</td>\n",
       "      <td>1133.154595</td>\n",
       "      <td>1.553196</td>\n",
       "      <td>0.813594</td>\n",
       "      <td>-147113.540903</td>\n",
       "      <td>-149486.767647</td>\n",
       "      <td>1002.730964</td>\n",
       "    </tr>\n",
       "    <tr>\n",
       "      <th>2</th>\n",
       "      <td>0</td>\n",
       "      <td>9090.205651</td>\n",
       "      <td>13494.571178</td>\n",
       "      <td>1343.262184</td>\n",
       "      <td>1.349230</td>\n",
       "      <td>1.017485</td>\n",
       "      <td>-146605.125865</td>\n",
       "      <td>-149215.263492</td>\n",
       "      <td>1102.830034</td>\n",
       "    </tr>\n",
       "    <tr>\n",
       "      <th>3</th>\n",
       "      <td>0</td>\n",
       "      <td>9990.779409</td>\n",
       "      <td>14963.617604</td>\n",
       "      <td>1467.848537</td>\n",
       "      <td>1.321576</td>\n",
       "      <td>1.045160</td>\n",
       "      <td>-146123.751406</td>\n",
       "      <td>-148969.481334</td>\n",
       "      <td>1202.372080</td>\n",
       "    </tr>\n",
       "    <tr>\n",
       "      <th>4</th>\n",
       "      <td>0</td>\n",
       "      <td>13006.302190</td>\n",
       "      <td>19025.376923</td>\n",
       "      <td>1866.607082</td>\n",
       "      <td>1.237172</td>\n",
       "      <td>1.129628</td>\n",
       "      <td>-145556.735557</td>\n",
       "      <td>-148636.378498</td>\n",
       "      <td>1301.204422</td>\n",
       "    </tr>\n",
       "    <tr>\n",
       "      <th>5</th>\n",
       "      <td>0</td>\n",
       "      <td>14572.009477</td>\n",
       "      <td>21263.258196</td>\n",
       "      <td>2039.136897</td>\n",
       "      <td>1.308472</td>\n",
       "      <td>1.058274</td>\n",
       "      <td>-145065.378002</td>\n",
       "      <td>-148380.126272</td>\n",
       "      <td>1400.540776</td>\n",
       "    </tr>\n",
       "  </tbody>\n",
       "</table>\n",
       "</div>"
      ],
      "text/plain": [
       "    Unnamed: 0         var_u         var_e        var_t     C_v_u     C_v_e  \\\n",
       "1            0    346.716588    393.325655    11.038759  1.222173  1.144346   \n",
       "6            0    296.087003    420.475963    43.369022  1.412997  0.953781   \n",
       "7            0   1495.040062   1738.113828    99.168259  1.416808  0.949945   \n",
       "8            0   1373.045979   1938.067510   170.543766  1.161694  1.205094   \n",
       "9            0   1891.381558   2663.482853   263.761140  1.015669  1.351131   \n",
       "10           0   2595.034667   3851.307852   381.396146  1.448648  0.890996   \n",
       "11           0   3679.621156   5275.680681   524.243469  1.383714  0.983016   \n",
       "12           0   4620.969744   6610.119937   721.344187  1.225041  1.141693   \n",
       "13           0   5830.910798   8568.749061   872.052035  1.396267  0.970514   \n",
       "0            0   7144.904466  10342.354161  1133.154595  1.553196  0.813594   \n",
       "2            0   9090.205651  13494.571178  1343.262184  1.349230  1.017485   \n",
       "3            0   9990.779409  14963.617604  1467.848537  1.321576  1.045160   \n",
       "4            0  13006.302190  19025.376923  1866.607082  1.237172  1.129628   \n",
       "5            0  14572.009477  21263.258196  2039.136897  1.308472  1.058274   \n",
       "\n",
       "                E              U            T  \n",
       "1  -151360.763815 -151597.399265    99.982760  \n",
       "6  -151160.729005 -151634.219397   200.058194  \n",
       "7  -150635.220104 -151346.078873   300.350607  \n",
       "8  -150123.946085 -151073.007040   400.995273  \n",
       "9  -149657.758334 -150842.315477   500.496628  \n",
       "10 -149164.052121 -150583.185481   599.609348  \n",
       "11 -148626.390048 -150285.914087   701.178737  \n",
       "12 -148195.202082 -150088.786033   800.073357  \n",
       "13 -147661.204415 -149793.542797   900.951310  \n",
       "0  -147113.540903 -149486.767647  1002.730964  \n",
       "2  -146605.125865 -149215.263492  1102.830034  \n",
       "3  -146123.751406 -148969.481334  1202.372080  \n",
       "4  -145556.735557 -148636.378498  1301.204422  \n",
       "5  -145065.378002 -148380.126272  1400.540776  "
      ]
     },
     "execution_count": 335,
     "metadata": {},
     "output_type": "execute_result"
    }
   ],
   "source": [
    "df1"
   ]
  },
  {
   "cell_type": "code",
   "execution_count": 336,
   "metadata": {},
   "outputs": [
    {
     "data": {
      "text/html": [
       "<div>\n",
       "<style scoped>\n",
       "    .dataframe tbody tr th:only-of-type {\n",
       "        vertical-align: middle;\n",
       "    }\n",
       "\n",
       "    .dataframe tbody tr th {\n",
       "        vertical-align: top;\n",
       "    }\n",
       "\n",
       "    .dataframe thead th {\n",
       "        text-align: right;\n",
       "    }\n",
       "</style>\n",
       "<table border=\"1\" class=\"dataframe\">\n",
       "  <thead>\n",
       "    <tr style=\"text-align: right;\">\n",
       "      <th></th>\n",
       "      <th>Unnamed: 0</th>\n",
       "      <th>var_u</th>\n",
       "      <th>var_e</th>\n",
       "      <th>var_t</th>\n",
       "      <th>C_v_u</th>\n",
       "      <th>C_v_e</th>\n",
       "      <th>E</th>\n",
       "      <th>U</th>\n",
       "      <th>T</th>\n",
       "    </tr>\n",
       "  </thead>\n",
       "  <tbody>\n",
       "    <tr>\n",
       "      <th>1</th>\n",
       "      <td>0</td>\n",
       "      <td>346.716588</td>\n",
       "      <td>393.325655</td>\n",
       "      <td>11.038759</td>\n",
       "      <td>17.453881</td>\n",
       "      <td>19.800204</td>\n",
       "      <td>-151360.763815</td>\n",
       "      <td>-151597.399265</td>\n",
       "      <td>99.982760</td>\n",
       "    </tr>\n",
       "    <tr>\n",
       "      <th>6</th>\n",
       "      <td>0</td>\n",
       "      <td>296.087003</td>\n",
       "      <td>420.475963</td>\n",
       "      <td>43.369022</td>\n",
       "      <td>3.722839</td>\n",
       "      <td>5.286840</td>\n",
       "      <td>-151160.729005</td>\n",
       "      <td>-151634.219397</td>\n",
       "      <td>200.058194</td>\n",
       "    </tr>\n",
       "    <tr>\n",
       "      <th>7</th>\n",
       "      <td>0</td>\n",
       "      <td>1495.040062</td>\n",
       "      <td>1738.113828</td>\n",
       "      <td>99.168259</td>\n",
       "      <td>8.339950</td>\n",
       "      <td>9.695916</td>\n",
       "      <td>-150635.220104</td>\n",
       "      <td>-151346.078873</td>\n",
       "      <td>300.350607</td>\n",
       "    </tr>\n",
       "    <tr>\n",
       "      <th>8</th>\n",
       "      <td>0</td>\n",
       "      <td>1373.045979</td>\n",
       "      <td>1938.067510</td>\n",
       "      <td>170.543766</td>\n",
       "      <td>4.297088</td>\n",
       "      <td>6.065380</td>\n",
       "      <td>-150123.946085</td>\n",
       "      <td>-151073.007040</td>\n",
       "      <td>400.995273</td>\n",
       "    </tr>\n",
       "    <tr>\n",
       "      <th>9</th>\n",
       "      <td>0</td>\n",
       "      <td>1891.381558</td>\n",
       "      <td>2663.482853</td>\n",
       "      <td>263.761140</td>\n",
       "      <td>3.799658</td>\n",
       "      <td>5.350757</td>\n",
       "      <td>-149657.758334</td>\n",
       "      <td>-150842.315477</td>\n",
       "      <td>500.496628</td>\n",
       "    </tr>\n",
       "    <tr>\n",
       "      <th>10</th>\n",
       "      <td>0</td>\n",
       "      <td>2595.034667</td>\n",
       "      <td>3851.307852</td>\n",
       "      <td>381.396146</td>\n",
       "      <td>3.632236</td>\n",
       "      <td>5.390625</td>\n",
       "      <td>-149164.052121</td>\n",
       "      <td>-150583.185481</td>\n",
       "      <td>599.609348</td>\n",
       "    </tr>\n",
       "    <tr>\n",
       "      <th>11</th>\n",
       "      <td>0</td>\n",
       "      <td>3679.621156</td>\n",
       "      <td>5275.680681</td>\n",
       "      <td>524.243469</td>\n",
       "      <td>3.766286</td>\n",
       "      <td>5.399937</td>\n",
       "      <td>-148626.390048</td>\n",
       "      <td>-150285.914087</td>\n",
       "      <td>701.178737</td>\n",
       "    </tr>\n",
       "    <tr>\n",
       "      <th>12</th>\n",
       "      <td>0</td>\n",
       "      <td>4620.969744</td>\n",
       "      <td>6610.119937</td>\n",
       "      <td>721.344187</td>\n",
       "      <td>3.632797</td>\n",
       "      <td>5.196577</td>\n",
       "      <td>-148195.202082</td>\n",
       "      <td>-150088.786033</td>\n",
       "      <td>800.073357</td>\n",
       "    </tr>\n",
       "    <tr>\n",
       "      <th>13</th>\n",
       "      <td>0</td>\n",
       "      <td>5830.910798</td>\n",
       "      <td>8568.749061</td>\n",
       "      <td>872.052035</td>\n",
       "      <td>3.614943</td>\n",
       "      <td>5.312298</td>\n",
       "      <td>-147661.204415</td>\n",
       "      <td>-149793.542797</td>\n",
       "      <td>900.951310</td>\n",
       "    </tr>\n",
       "    <tr>\n",
       "      <th>0</th>\n",
       "      <td>0</td>\n",
       "      <td>7144.904466</td>\n",
       "      <td>10342.354161</td>\n",
       "      <td>1133.154595</td>\n",
       "      <td>3.575981</td>\n",
       "      <td>5.176285</td>\n",
       "      <td>-147113.540903</td>\n",
       "      <td>-149486.767647</td>\n",
       "      <td>1002.730964</td>\n",
       "    </tr>\n",
       "    <tr>\n",
       "      <th>2</th>\n",
       "      <td>0</td>\n",
       "      <td>9090.205651</td>\n",
       "      <td>13494.571178</td>\n",
       "      <td>1343.262184</td>\n",
       "      <td>3.761181</td>\n",
       "      <td>5.583539</td>\n",
       "      <td>-146605.125865</td>\n",
       "      <td>-149215.263492</td>\n",
       "      <td>1102.830034</td>\n",
       "    </tr>\n",
       "    <tr>\n",
       "      <th>3</th>\n",
       "      <td>0</td>\n",
       "      <td>9990.779409</td>\n",
       "      <td>14963.617604</td>\n",
       "      <td>1467.848537</td>\n",
       "      <td>3.477677</td>\n",
       "      <td>5.208666</td>\n",
       "      <td>-146123.751406</td>\n",
       "      <td>-148969.481334</td>\n",
       "      <td>1202.372080</td>\n",
       "    </tr>\n",
       "    <tr>\n",
       "      <th>4</th>\n",
       "      <td>0</td>\n",
       "      <td>13006.302190</td>\n",
       "      <td>19025.376923</td>\n",
       "      <td>1866.607082</td>\n",
       "      <td>3.865720</td>\n",
       "      <td>5.654704</td>\n",
       "      <td>-145556.735557</td>\n",
       "      <td>-148636.378498</td>\n",
       "      <td>1301.204422</td>\n",
       "    </tr>\n",
       "    <tr>\n",
       "      <th>5</th>\n",
       "      <td>0</td>\n",
       "      <td>14572.009477</td>\n",
       "      <td>21263.258196</td>\n",
       "      <td>2039.136897</td>\n",
       "      <td>3.738484</td>\n",
       "      <td>5.455140</td>\n",
       "      <td>-145065.378002</td>\n",
       "      <td>-148380.126272</td>\n",
       "      <td>1400.540776</td>\n",
       "    </tr>\n",
       "  </tbody>\n",
       "</table>\n",
       "</div>"
      ],
      "text/plain": [
       "    Unnamed: 0         var_u         var_e        var_t      C_v_u      C_v_e  \\\n",
       "1            0    346.716588    393.325655    11.038759  17.453881  19.800204   \n",
       "6            0    296.087003    420.475963    43.369022   3.722839   5.286840   \n",
       "7            0   1495.040062   1738.113828    99.168259   8.339950   9.695916   \n",
       "8            0   1373.045979   1938.067510   170.543766   4.297088   6.065380   \n",
       "9            0   1891.381558   2663.482853   263.761140   3.799658   5.350757   \n",
       "10           0   2595.034667   3851.307852   381.396146   3.632236   5.390625   \n",
       "11           0   3679.621156   5275.680681   524.243469   3.766286   5.399937   \n",
       "12           0   4620.969744   6610.119937   721.344187   3.632797   5.196577   \n",
       "13           0   5830.910798   8568.749061   872.052035   3.614943   5.312298   \n",
       "0            0   7144.904466  10342.354161  1133.154595   3.575981   5.176285   \n",
       "2            0   9090.205651  13494.571178  1343.262184   3.761181   5.583539   \n",
       "3            0   9990.779409  14963.617604  1467.848537   3.477677   5.208666   \n",
       "4            0  13006.302190  19025.376923  1866.607082   3.865720   5.654704   \n",
       "5            0  14572.009477  21263.258196  2039.136897   3.738484   5.455140   \n",
       "\n",
       "                E              U            T  \n",
       "1  -151360.763815 -151597.399265    99.982760  \n",
       "6  -151160.729005 -151634.219397   200.058194  \n",
       "7  -150635.220104 -151346.078873   300.350607  \n",
       "8  -150123.946085 -151073.007040   400.995273  \n",
       "9  -149657.758334 -150842.315477   500.496628  \n",
       "10 -149164.052121 -150583.185481   599.609348  \n",
       "11 -148626.390048 -150285.914087   701.178737  \n",
       "12 -148195.202082 -150088.786033   800.073357  \n",
       "13 -147661.204415 -149793.542797   900.951310  \n",
       "0  -147113.540903 -149486.767647  1002.730964  \n",
       "2  -146605.125865 -149215.263492  1102.830034  \n",
       "3  -146123.751406 -148969.481334  1202.372080  \n",
       "4  -145556.735557 -148636.378498  1301.204422  \n",
       "5  -145065.378002 -148380.126272  1400.540776  "
      ]
     },
     "execution_count": 336,
     "metadata": {},
     "output_type": "execute_result"
    }
   ],
   "source": [
    "df2"
   ]
  },
  {
   "cell_type": "code",
   "execution_count": 337,
   "metadata": {},
   "outputs": [
    {
     "data": {
      "image/png": "[encoded data removed]",
      "text/plain": [
       "<Figure size 252x216 with 1 Axes>"
      ]
     },
     "metadata": {
      "needs_background": "light"
     },
     "output_type": "display_data"
    }
   ],
   "source": [
    "fig, ax = plt.subplots(1,1,figsize=(3.5,3))\n",
    "\n",
    "plt.scatter( df2[\"T\"], df2[\"U\"] , label=\"ReaxFF vac\")\n",
    "\n",
    "plt.ylabel(r\"U(T)\")\n",
    "plt.xlabel(\"Temperature (K)\")\n",
    "plt.title(\"Our Results \\n 795 atom Graphene Sheet \\n ReaxFF vac\")\n",
    "plt.legend()\n",
    "plt.savefig(f'plots/ReaxFF_U_vs_T.png', dpi=150, bbox_inches='tight')"
   ]
  },
  {
   "cell_type": "code",
   "execution_count": 338,
   "metadata": {},
   "outputs": [
    {
     "data": {
      "image/png": "[encoded data removed]",
      "text/plain": [
       "<Figure size 252x216 with 1 Axes>"
      ]
     },
     "metadata": {
      "needs_background": "light"
     },
     "output_type": "display_data"
    }
   ],
   "source": [
    "fig, ax = plt.subplots(1,1,figsize=(3.5,3))\n",
    "\n",
    "plt.scatter( df2[\"T\"], df2[\"E\"] , label=\"ReaxFF vac\")\n",
    "\n",
    "plt.ylabel(r\"E(T)\")\n",
    "plt.xlabel(\"Temperature (K)\")\n",
    "plt.title(\"Our Results \\n 795 atom Graphene Sheet \\n ReaxFF vac\")\n",
    "plt.legend()\n",
    "plt.savefig(f'plots/ReaxFF_E_vs_T.png', dpi=150, bbox_inches='tight')"
   ]
  },
  {
   "cell_type": "code",
   "execution_count": 339,
   "metadata": {},
   "outputs": [
    {
     "data": {
      "image/png": "[encoded data removed]",
      "text/plain": [
       "<Figure size 252x216 with 1 Axes>"
      ]
     },
     "metadata": {
      "needs_background": "light"
     },
     "output_type": "display_data"
    }
   ],
   "source": [
    "kcal_to_J = 4184\n",
    "\n",
    "fig, ax = plt.subplots(1,1,figsize=(3.5,3))\n",
    "\n",
    "plt.scatter( df2[\"T\"][1:], df2[\"C_v_e\"][1:] , label=\"eq2\")\n",
    "\n",
    "plt.ylabel(r\"$C_V$ ( kcal/(mol*K) )\")\n",
    "plt.xlabel(\"Temperature (K)\")\n",
    "plt.title(\"ReaxFF vac\")\n",
    "plt.legend()\n",
    "plt.savefig(f'plots/ReaxFF_vac_C_v_eq2.png', dpi=150, bbox_inches='tight')"
   ]
  },
  {
   "cell_type": "code",
   "execution_count": 340,
   "metadata": {},
   "outputs": [
    {
     "data": {
      "image/png": "[encoded data removed]",
      "text/plain": [
       "<Figure size 252x216 with 1 Axes>"
      ]
     },
     "metadata": {
      "needs_background": "light"
     },
     "output_type": "display_data"
    }
   ],
   "source": [
    "kcal_to_J = 4184\n",
    "\n",
    "fig, ax = plt.subplots(1,1,figsize=(3.5,3))\n",
    "\n",
    "plt.scatter( df1[\"T\"][1:], df1[\"C_v_e\"][1:] , label=\"eq1\")\n",
    "\n",
    "plt.ylabel(r\"$C_V$ ( kcal/(mol*K) )\")\n",
    "plt.xlabel(\"Temperature (K)\")\n",
    "plt.title(\"ReaxFF vac\")\n",
    "plt.legend()\n",
    "plt.savefig(f'plots/ReaxFF_vac_C_v_eq1.png', dpi=150, bbox_inches='tight')"
   ]
  },
  {
   "cell_type": "code",
   "execution_count": 341,
   "metadata": {},
   "outputs": [
    {
     "data": {
      "image/png": "[encoded data removed]",
      "text/plain": [
       "<Figure size 252x216 with 1 Axes>"
      ]
     },
     "metadata": {
      "needs_background": "light"
     },
     "output_type": "display_data"
    }
   ],
   "source": [
    "kcal_to_J = 4184\n",
    "\n",
    "fig, ax = plt.subplots(1,1,figsize=(3.5,3))\n",
    "\n",
    "plt.scatter( df2[\"T\"][1:], df2[\"C_v_e\"][1:] , label=\"eq2\")\n",
    "plt.scatter( df1[\"T\"][1:], df1[\"C_v_e\"][1:] , label=\"eq1\")\n",
    "\n",
    "plt.ylabel(r\"$C_V$ ( kcal/(mol*K) )\")\n",
    "plt.xlabel(\"Temperature (K)\")\n",
    "plt.title(\"ReaxFF vac\")\n",
    "plt.legend()\n",
    "plt.savefig(f'plots/ReaxFF_vac_C_v_both-eq.png', dpi=150, bbox_inches='tight')"
   ]
  },
  {
   "cell_type": "code",
   "execution_count": 342,
   "metadata": {},
   "outputs": [],
   "source": [
    "df1 = pd.read_csv(\"csv/LJdata_no_vac_eq1.csv\").sort_values(\"T\")\n",
    "df2 = pd.read_csv(\"csv/LJdata_no_vac_eq2.csv\").sort_values(\"T\")"
   ]
  },
  {
   "cell_type": "code",
   "execution_count": 343,
   "metadata": {},
   "outputs": [
    {
     "data": {
      "image/png": "[encoded data removed]",
      "text/plain": [
       "<Figure size 252x216 with 1 Axes>"
      ]
     },
     "metadata": {
      "needs_background": "light"
     },
     "output_type": "display_data"
    }
   ],
   "source": [
    "fig, ax = plt.subplots(1,1,figsize=(3.5,3))\n",
    "\n",
    "plt.scatter( df2[\"T\"], df2[\"U\"] , label=\"LJ no vac\")\n",
    "\n",
    "plt.ylabel(r\"U(T)\")\n",
    "plt.xlabel(\"Temperature (K)\")\n",
    "plt.title(\"Our Results \\n 795 atom Graphene Sheet \\n Using LJ no vac\")\n",
    "plt.legend()\n",
    "plt.savefig(f'plots/LJ_no_vac_U_vs_T.png', dpi=150, bbox_inches='tight')"
   ]
  },
  {
   "cell_type": "code",
   "execution_count": 344,
   "metadata": {},
   "outputs": [
    {
     "data": {
      "image/png": "[encoded data removed]",
      "text/plain": [
       "<Figure size 252x216 with 1 Axes>"
      ]
     },
     "metadata": {
      "needs_background": "light"
     },
     "output_type": "display_data"
    }
   ],
   "source": [
    "fig, ax = plt.subplots(1,1,figsize=(3.5,3))\n",
    "\n",
    "plt.scatter( df2[\"T\"], df2[\"E\"] , label=\"LJ no vac\")\n",
    "\n",
    "plt.ylabel(r\"E(T)\")\n",
    "plt.xlabel(\"Temperature (K)\")\n",
    "plt.title(\"Our Results \\n 795 atom Graphene Sheet \\n Using LJ no vac\")\n",
    "plt.legend()\n",
    "plt.savefig(f'plots/LJ_no_vac_E_vs_T.png', dpi=150, bbox_inches='tight')"
   ]
  },
  {
   "cell_type": "code",
   "execution_count": 345,
   "metadata": {},
   "outputs": [
    {
     "data": {
      "image/png": "[encoded data removed]",
      "text/plain": [
       "<Figure size 252x216 with 1 Axes>"
      ]
     },
     "metadata": {
      "needs_background": "light"
     },
     "output_type": "display_data"
    }
   ],
   "source": [
    "kcal_to_J = 4184\n",
    "\n",
    "fig, ax = plt.subplots(1,1,figsize=(3.5,3))\n",
    "\n",
    "plt.scatter( df2[\"T\"][:], df2[\"C_v_e\"][:] , label=\"eq2\")\n",
    "\n",
    "plt.ylabel(r\"$C_V$ ( kcal/(mol*K) )\")\n",
    "plt.xlabel(\"Temperature (K)\")\n",
    "plt.title(\"LJ no vac\")\n",
    "plt.legend()\n",
    "plt.savefig(f'plots/LJ_no_vac_C_v_eq2.png', dpi=150, bbox_inches='tight')"
   ]
  },
  {
   "cell_type": "code",
   "execution_count": 346,
   "metadata": {},
   "outputs": [
    {
     "data": {
      "image/png": "[encoded data removed]",
      "text/plain": [
       "<Figure size 252x216 with 1 Axes>"
      ]
     },
     "metadata": {
      "needs_background": "light"
     },
     "output_type": "display_data"
    }
   ],
   "source": [
    "kcal_to_J = 4184\n",
    "\n",
    "fig, ax = plt.subplots(1,1,figsize=(3.5,3))\n",
    "\n",
    "plt.scatter( df1[\"T\"][:], df1[\"C_v_e\"][:] , label=\"eq1\")\n",
    "\n",
    "plt.ylabel(r\"$C_V$ ( kcal/(mol*K) )\")\n",
    "plt.xlabel(\"Temperature (K)\")\n",
    "plt.title(\"LJ no vac\")\n",
    "plt.legend()\n",
    "plt.savefig(f'plots/LJ_no_vac_C_v_eq1.png', dpi=150, bbox_inches='tight')"
   ]
  },
  {
   "cell_type": "code",
   "execution_count": 347,
   "metadata": {},
   "outputs": [
    {
     "data": {
      "image/png": "[encoded data removed]",
      "text/plain": [
       "<Figure size 252x216 with 1 Axes>"
      ]
     },
     "metadata": {
      "needs_background": "light"
     },
     "output_type": "display_data"
    }
   ],
   "source": [
    "kcal_to_J = 4184\n",
    "\n",
    "fig, ax = plt.subplots(1,1,figsize=(3.5,3))\n",
    "\n",
    "plt.scatter( df2[\"T\"][:], df2[\"C_v_e\"][:] , label=\"eq2\")\n",
    "plt.scatter( df1[\"T\"][:], df1[\"C_v_e\"][:] , label=\"eq1\")\n",
    "\n",
    "plt.ylabel(r\"$C_V$ ( kcal/(mol*K) )\")\n",
    "plt.xlabel(\"Temperature (K)\")\n",
    "plt.title(\"LJ no vac\")\n",
    "plt.legend()\n",
    "plt.savefig(f'plots/LJ_no_vac_C_v_both-eq.png', dpi=150, bbox_inches='tight')"
   ]
  },
  {
   "cell_type": "code",
   "execution_count": 348,
   "metadata": {},
   "outputs": [],
   "source": [
    "df1 = pd.read_csv(\"csv/ReaxFFdata_no_vac_eq1.csv\").sort_values(\"T\")\n",
    "df2 = pd.read_csv(\"csv/ReaxFFdata_no_vac_eq2.csv\").sort_values(\"T\")"
   ]
  },
  {
   "cell_type": "code",
   "execution_count": 349,
   "metadata": {},
   "outputs": [],
   "source": [
    "# For the LJ data we only do a certain temperature range 100K-1400K\n",
    "temp_range = np.array((df1[\"T\"] > 90).index)"
   ]
  },
  {
   "cell_type": "code",
   "execution_count": 350,
   "metadata": {},
   "outputs": [
    {
     "data": {
      "image/png": "[encoded data removed]",
      "text/plain": [
       "<Figure size 252x216 with 1 Axes>"
      ]
     },
     "metadata": {
      "needs_background": "light"
     },
     "output_type": "display_data"
    }
   ],
   "source": [
    "fig, ax = plt.subplots(1,1,figsize=(3.5,3))\n",
    "\n",
    "plt.scatter( df2[\"T\"][temp_range], df2[\"U\"][temp_range] , label=\"ReaxFF no vac\")\n",
    "\n",
    "plt.ylabel(r\"U(T)\")\n",
    "plt.xlabel(\"Temperature (K)\")\n",
    "plt.title(\"Our Results \\n 795 atom Graphene Sheet \\n Using ReaxFF no vac\")\n",
    "plt.legend()\n",
    "plt.savefig(f'plots/ReaxFF_no_vac_U_vs_T.png', dpi=150, bbox_inches='tight')"
   ]
  },
  {
   "cell_type": "code",
   "execution_count": 351,
   "metadata": {},
   "outputs": [
    {
     "data": {
      "image/png": "[encoded data removed]",
      "text/plain": [
       "<Figure size 252x216 with 1 Axes>"
      ]
     },
     "metadata": {
      "needs_background": "light"
     },
     "output_type": "display_data"
    }
   ],
   "source": [
    "fig, ax = plt.subplots(1,1,figsize=(3.5,3))\n",
    "\n",
    "plt.scatter( df2[\"T\"][temp_range], df2[\"E\"][temp_range] , label=\"ReaxFF no vac\")\n",
    "\n",
    "plt.ylabel(r\"E(T)\")\n",
    "plt.xlabel(\"Temperature (K)\")\n",
    "plt.title(\"Our Results \\n 795 atom Graphene Sheet \\n Using ReaxFF no vac\")\n",
    "plt.legend()\n",
    "plt.savefig(f'plots/ReaxFF_no_vac_E_vs_T.png', dpi=150, bbox_inches='tight')"
   ]
  },
  {
   "cell_type": "code",
   "execution_count": 352,
   "metadata": {},
   "outputs": [
    {
     "data": {
      "image/png": "[encoded data removed]",
      "text/plain": [
       "<Figure size 252x216 with 1 Axes>"
      ]
     },
     "metadata": {
      "needs_background": "light"
     },
     "output_type": "display_data"
    }
   ],
   "source": [
    "kcal_to_J = 4184\n",
    "\n",
    "fig, ax = plt.subplots(1,1,figsize=(3.5,3))\n",
    "\n",
    "plt.scatter( df2[\"T\"][temp_range], df2[\"C_v_e\"][temp_range] , label=\"eq2\")\n",
    "\n",
    "plt.ylabel(r\"$C_V$ ( kcal/(mol*K) )\")\n",
    "plt.xlabel(\"Temperature (K)\")\n",
    "plt.title(\"ReaxFF no vac\")\n",
    "plt.legend()\n",
    "plt.savefig(f'plots/ReaxFF_no_vac_C_v_eq2.png', dpi=150, bbox_inches='tight')"
   ]
  },
  {
   "cell_type": "code",
   "execution_count": 353,
   "metadata": {},
   "outputs": [
    {
     "data": {
      "image/png": "[encoded data removed]",
      "text/plain": [
       "<Figure size 252x216 with 1 Axes>"
      ]
     },
     "metadata": {
      "needs_background": "light"
     },
     "output_type": "display_data"
    }
   ],
   "source": [
    "kcal_to_J = 4184\n",
    "\n",
    "fig, ax = plt.subplots(1,1,figsize=(3.5,3))\n",
    "\n",
    "plt.scatter( df1[\"T\"][temp_range], df1[\"C_v_e\"][temp_range] , label=\"eq1\")\n",
    "\n",
    "plt.ylabel(r\"$C_V$ ( kcal/(mol*K) )\")\n",
    "plt.xlabel(\"Temperature (K)\")\n",
    "plt.title(\"ReaxFF no vac\")\n",
    "plt.legend()\n",
    "plt.savefig(f'plots/ReaxFF_no_vac_C_v_eq1.png', dpi=150, bbox_inches='tight')"
   ]
  },
  {
   "cell_type": "code",
   "execution_count": 354,
   "metadata": {},
   "outputs": [
    {
     "data": {
      "image/png": "[encoded data removed]",
      "text/plain": [
       "<Figure size 252x216 with 1 Axes>"
      ]
     },
     "metadata": {
      "needs_background": "light"
     },
     "output_type": "display_data"
    }
   ],
   "source": [
    "kcal_to_J = 4184\n",
    "\n",
    "fig, ax = plt.subplots(1,1,figsize=(3.5,3))\n",
    "\n",
    "plt.scatter( df2[\"T\"][temp_range], df2[\"C_v_e\"][temp_range] , label=\"eq2\")\n",
    "plt.scatter( df1[\"T\"][temp_range], df1[\"C_v_e\"][temp_range] , label=\"eq1\")\n",
    "\n",
    "plt.ylabel(r\"$C_V$ ( kcal/(mol*K) )\")\n",
    "plt.xlabel(\"Temperature (K)\")\n",
    "plt.title(\"ReaxFF no vac\")\n",
    "plt.legend()\n",
    "plt.savefig(f'plots/ReaxFF_no_vac_C_v_both-eq.png', dpi=150, bbox_inches='tight')"
   ]
  },
  {
   "cell_type": "markdown",
   "metadata": {},
   "source": [
    "# Check which data points we need to run"
   ]
  },
  {
   "cell_type": "code",
   "execution_count": 483,
   "metadata": {},
   "outputs": [],
   "source": [
    "df1 = pd.read_csv(\"csv/LJdata_eq1.csv\").sort_values(\"T\")\n",
    "df2 = pd.read_csv(\"csv/LJdata_eq2.csv\").sort_values(\"T\")\n",
    "\n",
    "df3 = pd.read_csv(\"csv/ReaxFFdata_eq1.csv\").sort_values(\"T\")\n",
    "df4 = pd.read_csv(\"csv/ReaxFFdata_eq2.csv\").sort_values(\"T\")\n",
    "\n",
    "df5 = pd.read_csv(\"csv/LJdata_no_vac_eq1.csv\").sort_values(\"T\")\n",
    "df6 = pd.read_csv(\"csv/LJdata_no_vac_eq2.csv\").sort_values(\"T\")\n",
    "\n",
    "df7 = pd.read_csv(\"csv/ReaxFFdata_no_vac_eq1.csv\").sort_values(\"T\")\n",
    "df8 = pd.read_csv(\"csv/ReaxFFdata_no_vac_eq2.csv\").sort_values(\"T\")"
   ]
  },
  {
   "cell_type": "code",
   "execution_count": 484,
   "metadata": {},
   "outputs": [
    {
     "data": {
      "image/png": "[encoded data removed]",
      "text/plain": [
       "<Figure size 720x216 with 1 Axes>"
      ]
     },
     "metadata": {
      "needs_background": "light"
     },
     "output_type": "display_data"
    }
   ],
   "source": [
    "fig, ax = plt.subplots(1,1,figsize=(10,3))\n",
    "\n",
    "plt.scatter( df1[\"T\"], [\"LJ\"]*len(df1[\"T\"]), label=\"LJ\")\n",
    "plt.scatter( df5[\"T\"], [\"LJ no vac\"]*len(df5[\"T\"]), label=\"LJ no vac\")\n",
    "\n",
    "plt.scatter( df3[\"T\"], [\"ReaxFF\"]*len(df3[\"T\"]), label=\"ReaxFF\")\n",
    "plt.scatter( df7[\"T\"], [\"ReaxFF no vac\"]*len(df7[\"T\"]), label=\"ReaxFF no vac\")\n",
    "\n",
    "#plt.ylabel(r\"Potential and structure\")\n",
    "plt.xlabel(\"Temperature (K)\")\n",
    "plt.title(\"The data we collected for \\n 795 atom Graphene Sheet\")\n",
    "#plt.legend()\n",
    "plt.savefig(f'plots/data_current.png', dpi=150, bbox_inches='tight')"
   ]
  },
  {
   "cell_type": "code",
   "execution_count": 494,
   "metadata": {},
   "outputs": [],
   "source": [
    "# Find temperature region for each data set\n",
    "tcut = 195\n",
    "\n",
    "df2 = df2[df2[\"T\"] > tcut]\n",
    "df4 = df4[df4[\"T\"] > tcut]\n",
    "df6 = df6[df6[\"T\"] > tcut]\n",
    "df8 = df8[df8[\"T\"] > tcut]\n",
    "\n",
    "df1 = df1[df1[\"T\"] > tcut]\n",
    "df3 = df3[df3[\"T\"] > tcut]\n",
    "df5 = df5[df5[\"T\"] > tcut]\n",
    "df7 = df7[df7[\"T\"] > tcut]\n"
   ]
  },
  {
   "cell_type": "code",
   "execution_count": 495,
   "metadata": {},
   "outputs": [
    {
     "data": {
      "image/png": "[encoded data removed]",
      "text/plain": [
       "<Figure size 252x216 with 1 Axes>"
      ]
     },
     "metadata": {
      "needs_background": "light"
     },
     "output_type": "display_data"
    }
   ],
   "source": [
    "kcal_to_J = 4184\n",
    "\n",
    "fig, ax = plt.subplots(1,1,figsize=(3.5,3))\n",
    "\n",
    "plt.scatter( df2[\"T\"], df2[\"C_v_e\"]*kcal_to_J , label=\"LJ vac\", marker='v', color='tab:blue', alpha=0.80)\n",
    "plt.scatter( df6[\"T\"], df6[\"C_v_e\"]*kcal_to_J , label=\"LJ no vac\", marker='v', color='tab:orange', alpha=0.80)\n",
    "plt.scatter( df4[\"T\"], df4[\"C_v_e\"]*kcal_to_J , label=\"ReaxFF vac\", marker='o', color='tab:green', alpha=0.80)\n",
    "plt.scatter( df8[\"T\"], df8[\"C_v_e\"]*kcal_to_J , label=\"ReaxFF no vac\", marker='o', color='tab:red', alpha=0.80)\n",
    "\n",
    "plt.ylabel(r\"$C_V$ ( J/(mol*K) )\")\n",
    "plt.xlabel(\"Temperature (K)\")\n",
    "#plt.title(\"\")\n",
    "plt.legend(loc='center right', bbox_to_anchor=(1.6, 0.5))\n",
    "#plt.ylim(0,7)\n",
    "plt.savefig(f'plots/All_C_v_eq2_Joules.png', dpi=150, bbox_inches='tight')"
   ]
  },
  {
   "cell_type": "code",
   "execution_count": 496,
   "metadata": {},
   "outputs": [
    {
     "data": {
      "image/png": "[encoded data removed]",
      "text/plain": [
       "<Figure size 252x216 with 1 Axes>"
      ]
     },
     "metadata": {
      "needs_background": "light"
     },
     "output_type": "display_data"
    }
   ],
   "source": [
    "fig, ax = plt.subplots(1,1,figsize=(3.5,3))\n",
    "\n",
    "plt.scatter( df2[\"T\"], df2[\"C_v_e\"] , label=\"LJ vac\", marker='v', color='tab:blue', alpha=0.80)\n",
    "plt.scatter( df6[\"T\"], df6[\"C_v_e\"] , label=\"LJ no vac\", marker='v', color='tab:orange', alpha=0.80)\n",
    "plt.scatter( df4[\"T\"], df4[\"C_v_e\"] , label=\"ReaxFF vac\", marker='o', color='tab:green', alpha=0.80)\n",
    "plt.scatter( df8[\"T\"], df8[\"C_v_e\"] , label=\"ReaxFF no vac\", marker='o', color='tab:red', alpha=0.80)\n",
    "\n",
    "plt.ylabel(r\"$C_V$ ( kcal/(mol*K) )\")\n",
    "plt.xlabel(\"Temperature (K)\")\n",
    "#plt.title(\"\")\n",
    "plt.legend(loc='center right', bbox_to_anchor=(1.6, 0.5))\n",
    "#plt.ylim(0,7)\n",
    "plt.savefig(f'plots/All_C_v_eq2.png', dpi=150, bbox_inches='tight')"
   ]
  },
  {
   "cell_type": "code",
   "execution_count": 497,
   "metadata": {},
   "outputs": [
    {
     "data": {
      "image/png": "[encoded data removed]",
      "text/plain": [
       "<Figure size 252x216 with 1 Axes>"
      ]
     },
     "metadata": {
      "needs_background": "light"
     },
     "output_type": "display_data"
    }
   ],
   "source": [
    "fig, ax = plt.subplots(1,1,figsize=(3.5,3))\n",
    "\n",
    "plt.scatter( df1[\"T\"], df1[\"C_v_e\"] , label=\"LJ vac\", marker='v', color='tab:blue', alpha=0.80)\n",
    "plt.scatter( df5[\"T\"], df5[\"C_v_e\"] , label=\"LJ no vac\", marker='v', color='tab:orange', alpha=0.80)\n",
    "plt.scatter( df3[\"T\"], df3[\"C_v_e\"] , label=\"ReaxFF vac\", marker='o', color='tab:green', alpha=0.80)\n",
    "plt.scatter( df7[\"T\"], df7[\"C_v_e\"] , label=\"ReaxFF no vac\", marker='o', color='tab:red', alpha=0.80)\n",
    "\n",
    "plt.ylabel(r\"$C_V$ ( kcal/(mol*K) )\")\n",
    "plt.xlabel(\"Temperature (K)\")\n",
    "#plt.title(\"\")\n",
    "plt.legend(loc='center right', bbox_to_anchor=(1.6, 0.5))\n",
    "#plt.ylim(0,7)\n",
    "plt.savefig(f'plots/All_C_v_eq1.png', dpi=150, bbox_inches='tight')"
   ]
  },
  {
   "cell_type": "code",
   "execution_count": 498,
   "metadata": {},
   "outputs": [
    {
     "data": {
      "image/png": "[encoded data removed]",
      "text/plain": [
       "<Figure size 432x288 with 3 Axes>"
      ]
     },
     "metadata": {
      "needs_background": "light"
     },
     "output_type": "display_data"
    }
   ],
   "source": [
    "import matplotlib.gridspec as gridspec\n",
    "\n",
    "fig = plt.figure(constrained_layout=False)\n",
    "\n",
    "gs = fig.add_gridspec(2, 4, top=.95, bottom=0.05)\n",
    "\n",
    "gs.update(wspace=0.75, hspace=0.55)\n",
    "\n",
    "#fig, ax = plt.subplots(2,2,figsize=(4*2,3*2), sharex=True)\n",
    "\n",
    "ax1 = fig.add_subplot(gs[0, :2])\n",
    "ax2 = fig.add_subplot(gs[0, 2:])\n",
    "ax3 = fig.add_subplot(gs[1, 1:3])\n",
    "\n",
    "# LJ \n",
    "ax1.scatter( df2[\"T\"], df2[\"E\"], marker='v', color='tab:blue')\n",
    "ax2.scatter( df6[\"T\"], df6[\"E\"], marker='v', color='tab:orange')\n",
    "\n",
    "# ReaxFF\n",
    "ax3.scatter( df4[\"T\"], df4[\"E\"], marker='o', color='tab:green',label='vac')\n",
    "ax3.scatter( df8[\"T\"], df8[\"E\"], marker='o', color='tab:red', label='no vac')\n",
    "\n",
    "ax1.set_title(\"LJ vac\")\n",
    "ax2.set_title(\"LJ no vac\")\n",
    "\n",
    "ax3.set_title(\"ReaxFF\")\n",
    "ax3.legend()\n",
    "#ax3.set_title(\"ReaxFF no vac\")\n",
    "\n",
    "ax1.ticklabel_format(style='sci', axis='y', scilimits=(0,0))\n",
    "ax2.ticklabel_format(style='sci', axis='y', scilimits=(0,0))\n",
    "ax3.ticklabel_format(style='sci', axis='y', scilimits=(0,0))\n",
    "ax3.ticklabel_format(style='sci', axis='y', scilimits=(0,0))\n",
    "\n",
    "#plt.legend()\n",
    "ax1.set_ylabel(r\"Internal Energy (kcal)\")\n",
    "ax3.set_ylabel(r\"Internal Energy (kcal)\")\n",
    "\n",
    "#ax[0,0].set_xlabel(\"Temperature (K)\")\n",
    "#ax[0,1].set_xlabel(\"Temperature (K)\")\n",
    "ax1.set_xlabel(\"Temperature (K)\")\n",
    "ax2.set_xlabel(\"Temperature (K)\")\n",
    "ax3.set_xlabel(\"Temperature (K)\")\n",
    "\n",
    "plt.savefig(f'plots/All_EvsT.png', dpi=150, bbox_inches='tight')"
   ]
  },
  {
   "cell_type": "code",
   "execution_count": 499,
   "metadata": {},
   "outputs": [
    {
     "data": {
      "image/png": "[encoded data removed]",
      "text/plain": [
       "<Figure size 432x288 with 3 Axes>"
      ]
     },
     "metadata": {
      "needs_background": "light"
     },
     "output_type": "display_data"
    }
   ],
   "source": [
    "import matplotlib.gridspec as gridspec\n",
    "\n",
    "fig = plt.figure(constrained_layout=False)\n",
    "\n",
    "gs = fig.add_gridspec(2, 4, top=.95, bottom=0.05)\n",
    "\n",
    "gs.update(wspace=0.75, hspace=0.55)\n",
    "\n",
    "#fig, ax = plt.subplots(2,2,figsize=(4*2,3*2), sharex=True)\n",
    "\n",
    "ax1 = fig.add_subplot(gs[0, :2])\n",
    "ax2 = fig.add_subplot(gs[0, 2:])\n",
    "ax3 = fig.add_subplot(gs[1, 1:3])\n",
    "\n",
    "# LJ \n",
    "ax1.scatter( df2[\"T\"], df2[\"U\"], marker='v', color='tab:blue')\n",
    "ax2.scatter( df6[\"T\"], df6[\"U\"], marker='v', color='tab:orange')\n",
    "\n",
    "# ReaxFF\n",
    "ax3.scatter( df4[\"T\"], df4[\"U\"], marker='o', color='tab:green',label='vac')\n",
    "ax3.scatter( df8[\"T\"], df8[\"U\"], marker='o', color='tab:red', label='no vac')\n",
    "\n",
    "ax1.set_title(\"LJ vac\")\n",
    "ax2.set_title(\"LJ no vac\")\n",
    "\n",
    "ax3.set_title(\"ReaxFF\")\n",
    "ax3.legend()\n",
    "#ax3.set_title(\"ReaxFF no vac\")\n",
    "\n",
    "ax1.ticklabel_format(style='sci', axis='y', scilimits=(0,0))\n",
    "ax2.ticklabel_format(style='sci', axis='y', scilimits=(0,0))\n",
    "ax3.ticklabel_format(style='sci', axis='y', scilimits=(0,0))\n",
    "ax3.ticklabel_format(style='sci', axis='y', scilimits=(0,0))\n",
    "\n",
    "#plt.legend()\n",
    "ax1.set_ylabel(r\"Potential Energy (kcal)\")\n",
    "ax3.set_ylabel(r\"Potential Energy (kcal)\")\n",
    "\n",
    "#ax[0,0].set_xlabel(\"Temperature (K)\")\n",
    "#ax[0,1].set_xlabel(\"Temperature (K)\")\n",
    "ax1.set_xlabel(\"Temperature (K)\")\n",
    "ax2.set_xlabel(\"Temperature (K)\")\n",
    "ax3.set_xlabel(\"Temperature (K)\")\n",
    "\n",
    "plt.savefig(f'plots/All_UvsT.png', dpi=150, bbox_inches='tight')"
   ]
  },
  {
   "cell_type": "code",
   "execution_count": 504,
   "metadata": {},
   "outputs": [
    {
     "data": {
      "image/png": "[encoded data removed]",
      "text/plain": [
       "<Figure size 432x288 with 3 Axes>"
      ]
     },
     "metadata": {
      "needs_background": "light"
     },
     "output_type": "display_data"
    }
   ],
   "source": [
    "kcal_to_J = 4184\n",
    "\n",
    "import matplotlib.gridspec as gridspec\n",
    "\n",
    "fig = plt.figure(constrained_layout=False)\n",
    "\n",
    "gs = fig.add_gridspec(2, 4, top=.95, bottom=0.05)\n",
    "\n",
    "gs.update(wspace=0.75, hspace=0.55)\n",
    "\n",
    "#fig, ax = plt.subplots(2,2,figsize=(4*2,3*2), sharex=True)\n",
    "\n",
    "ax1 = fig.add_subplot(gs[0, :2])\n",
    "ax2 = fig.add_subplot(gs[0, 2:])\n",
    "ax3 = fig.add_subplot(gs[1, 1:3])\n",
    "\n",
    "# LJ \n",
    "ax1.scatter( df2[\"T\"], df2[\"U\"]*kcal_to_J, marker='v', color='tab:blue')\n",
    "ax2.scatter( df6[\"T\"], df6[\"U\"]*kcal_to_J, marker='v', color='tab:orange')\n",
    "\n",
    "# ReaxFF\n",
    "ax3.scatter( df4[\"T\"], df4[\"U\"]*kcal_to_J, marker='o', color='tab:green',label='vac')\n",
    "ax3.scatter( df8[\"T\"], df8[\"U\"]*kcal_to_J, marker='o', color='tab:red', label='no vac')\n",
    "\n",
    "ax1.set_title(\"LJ vac\")\n",
    "ax2.set_title(\"LJ no vac\")\n",
    "\n",
    "ax3.set_title(\"ReaxFF\")\n",
    "ax3.legend()\n",
    "#ax3.set_title(\"ReaxFF no vac\")\n",
    "\n",
    "ax1.ticklabel_format(style='sci', axis='y', scilimits=(0,0))\n",
    "ax2.ticklabel_format(style='sci', axis='y', scilimits=(0,0))\n",
    "ax3.ticklabel_format(style='sci', axis='y', scilimits=(0,0))\n",
    "ax3.ticklabel_format(style='sci', axis='y', scilimits=(0,0))\n",
    "\n",
    "#plt.legend()\n",
    "ax1.set_ylabel(r\"Potential Energy (J)\")\n",
    "ax3.set_ylabel(r\"Potential Energy (J)\")\n",
    "\n",
    "#ax[0,0].set_xlabel(\"Temperature (K)\")\n",
    "#ax[0,1].set_xlabel(\"Temperature (K)\")\n",
    "ax1.set_xlabel(\"Temperature (K)\")\n",
    "ax2.set_xlabel(\"Temperature (K)\")\n",
    "ax3.set_xlabel(\"Temperature (K)\")\n",
    "\n",
    "plt.savefig(f'plots/All_UvsT_Joules.png', dpi=150, bbox_inches='tight')"
   ]
  },
  {
   "cell_type": "code",
   "execution_count": 500,
   "metadata": {},
   "outputs": [
    {
     "data": {
      "image/png": "[encoded data removed]",
      "text/plain": [
       "<Figure size 252x216 with 1 Axes>"
      ]
     },
     "metadata": {
      "needs_background": "light"
     },
     "output_type": "display_data"
    }
   ],
   "source": [
    "import matplotlib.gridspec as gridspec\n",
    "\n",
    "fig, ax = plt.subplots(1,1,figsize=(3.5,3))\n",
    "\n",
    "# LJ \n",
    "plt.scatter( df2[\"T\"], df2[\"E\"]-df2[\"U\"], marker='v', color='tab:blue', label=\"LJ vac\")\n",
    "plt.scatter( df6[\"T\"], df6[\"E\"]-df6[\"U\"], marker='v', color='tab:orange', label=\"LJ no vac\")\n",
    "\n",
    "# ReaxFF\n",
    "plt.scatter( df4[\"T\"], df4[\"E\"]-df4[\"U\"], marker='o', color='tab:green',label=\"ReaxFF vac\")\n",
    "plt.scatter( df8[\"T\"], df8[\"E\"]-df8[\"U\"], marker='o', color='tab:red', label=\"ReaxFF no vac\")\n",
    "\n",
    "plt.legend(loc='center right', bbox_to_anchor=(1.6, 0.5))\n",
    "\n",
    "plt.ylabel(r\"Internal - Potential Energy (kcal)\")\n",
    "\n",
    "plt.xlabel(\"Temperature (K)\")\n",
    "\n",
    "plt.savefig(f'plots/All_KEvsT.png', dpi=150, bbox_inches='tight')"
   ]
  },
  {
   "cell_type": "code",
   "execution_count": 501,
   "metadata": {},
   "outputs": [
    {
     "data": {
      "image/png": "[encoded data removed]",
      "text/plain": [
       "<Figure size 576x432 with 4 Axes>"
      ]
     },
     "metadata": {
      "needs_background": "light"
     },
     "output_type": "display_data"
    }
   ],
   "source": [
    "fig, ax = plt.subplots(2,2,figsize=(4*2,3*2), sharex=True)\n",
    "\n",
    "# LJ \n",
    "ax[0,0].errorbar( df2[\"T\"], df2[\"P\"], yerr=df2[\"std_P\"], fmt='o', marker='v', color='tab:blue')\n",
    "ax[0,1].errorbar( df6[\"T\"], df6[\"P\"], yerr=df6[\"std_P\"], fmt='o', marker='v', color='tab:orange')\n",
    "\n",
    "# ReaxFF\n",
    "ax[1,0].errorbar( df4[\"T\"], df4[\"P\"], yerr=df4[\"std_P\"], fmt='o', marker='o', color='tab:green')\n",
    "ax[1,1].errorbar( df8[\"T\"], df8[\"P\"], yerr=df8[\"std_P\"], fmt='o', marker='o', color='tab:red')\n",
    "\n",
    "ax[0,0].set_title(\"LJ vac\")\n",
    "ax[0,1].set_title(\"LJ no vac\")\n",
    "\n",
    "ax[1,0].set_title(\"ReaxFF vac\")\n",
    "ax[1,1].set_title(\"ReaxFF no vac\")\n",
    "\n",
    "ax[0,0].ticklabel_format(style='sci', axis='y', scilimits=(0,0))\n",
    "ax[0,1].ticklabel_format(style='sci', axis='y', scilimits=(0,0))\n",
    "ax[1,0].ticklabel_format(style='sci', axis='y', scilimits=(0,0))\n",
    "ax[1,1].ticklabel_format(style='sci', axis='y', scilimits=(0,0))\n",
    "\n",
    "#plt.legend()\n",
    "ax[0,0].set_ylabel(r\"Pressure (atm)\")\n",
    "ax[1,0].set_ylabel(r\"Pressure (atm)\")\n",
    "\n",
    "#ax[0,0].set_xlabel(\"Temperature (K)\")\n",
    "#ax[0,1].set_xlabel(\"Temperature (K)\")\n",
    "ax[1,0].set_xlabel(\"Temperature (K)\")\n",
    "ax[1,1].set_xlabel(\"Temperature (K)\")\n",
    "\n",
    "plt.savefig(f'plots/All_PvsT.png', dpi=150, bbox_inches='tight')"
   ]
  },
  {
   "cell_type": "code",
   "execution_count": 502,
   "metadata": {},
   "outputs": [
    {
     "data": {
      "image/png": "[encoded data removed]",
      "text/plain": [
       "<Figure size 576x432 with 4 Axes>"
      ]
     },
     "metadata": {
      "needs_background": "light"
     },
     "output_type": "display_data"
    }
   ],
   "source": [
    "fig, ax = plt.subplots(2,2,figsize=(4*2,3*2), sharex=True)\n",
    "\n",
    "# LJ \n",
    "ax[0,0].errorbar( df2[\"T\"], df2[\"P\"], fmt='o', marker='v', color='tab:blue')\n",
    "ax[0,1].errorbar( df6[\"T\"], df6[\"P\"], fmt='o', marker='v', color='tab:orange')\n",
    "\n",
    "# ReaxFF\n",
    "ax[1,0].errorbar( df4[\"T\"], df4[\"P\"], fmt='o', marker='o', color='tab:green')\n",
    "ax[1,1].errorbar( df8[\"T\"], df8[\"P\"], fmt='o', marker='o', color='tab:red')\n",
    "\n",
    "ax[0,0].set_title(\"LJ vac\")\n",
    "ax[0,1].set_title(\"LJ no vac\")\n",
    "\n",
    "ax[1,0].set_title(\"ReaxFF vac\")\n",
    "ax[1,1].set_title(\"ReaxFF no vac\")\n",
    "\n",
    "ax[0,0].ticklabel_format(style='sci', axis='y', scilimits=(0,0))\n",
    "ax[0,1].ticklabel_format(style='sci', axis='y', scilimits=(0,0))\n",
    "ax[1,0].ticklabel_format(style='sci', axis='y', scilimits=(0,0))\n",
    "ax[1,1].ticklabel_format(style='sci', axis='y', scilimits=(0,0))\n",
    "\n",
    "#plt.legend()\n",
    "ax[0,0].set_ylabel(r\"Pressure (atm)\")\n",
    "ax[1,0].set_ylabel(r\"Pressure (atm)\")\n",
    "\n",
    "#ax[0,0].set_xlabel(\"Temperature (K)\")\n",
    "#ax[0,1].set_xlabel(\"Temperature (K)\")\n",
    "ax[1,0].set_xlabel(\"Temperature (K)\")\n",
    "ax[1,1].set_xlabel(\"Temperature (K)\")\n",
    "\n",
    "plt.savefig(f'plots/All_PvsT_noSTD.png', dpi=150, bbox_inches='tight')"
   ]
  },
  {
   "cell_type": "code",
   "execution_count": null,
   "metadata": {},
   "outputs": [],
   "source": []
  },
  {
   "cell_type": "code",
   "execution_count": null,
   "metadata": {},
   "outputs": [],
   "source": []
  },
  {
   "cell_type": "code",
   "execution_count": null,
   "metadata": {},
   "outputs": [],
   "source": []
  },
  {
   "cell_type": "code",
   "execution_count": null,
   "metadata": {},
   "outputs": [],
   "source": []
  }
 ],
 "metadata": {
  "kernelspec": {
   "display_name": "Python 3.7.6 ('pyqmc')",
   "language": "python",
   "name": "python3"
  },
  "language_info": {
   "codemirror_mode": {
    "name": "ipython",
    "version": 3
   },
   "file_extension": ".py",
   "mimetype": "text/x-python",
   "name": "python",
   "nbconvert_exporter": "python",
   "pygments_lexer": "ipython3",
   "version": "3.7.6"
  },
  "orig_nbformat": 4,
  "vscode": {
   "interpreter": {
    "hash": "71829e725c9cb1092ba1f71579b2ec6f11db6ec7b18ebcff9b8550834857f37e"
   }
  }
 },
 "nbformat": 4,
 "nbformat_minor": 2
}
